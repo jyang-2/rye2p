{
 "cells": [
  {
   "metadata": {
    "ExecuteTime": {
     "end_time": "2025-05-28T21:54:52.953189Z",
     "start_time": "2025-05-28T21:54:52.546879Z"
    }
   },
   "cell_type": "code",
   "source": [
    "import matplotlib\n",
    "import matplotlib.pyplot as plt\n",
    "import numpy as np\n",
    "import utils2p.synchronization\n",
    "import yaml\n",
    "from pathlib import Path\n",
    "from scipy import signal\n",
    "from rye2p import convert_raw_fn_thorimage, process_thorsync, datadirs, thormatch, olf_configs\n",
    "import json\n",
    "\n",
    "# set upstairs or downstairs microscope\n",
    "microscope = 'downstairs-2p'\n",
    "\n",
    "# set project directory paths\n",
    "PRJ_DATA_DIR = Path(\"/local/tensor/Ruoyi/ruoyi_rotation_project\")\n",
    "RAW_DATA_DIR = Path(\"/local/tensor/Ruoyi/ruoyi_rotation_project/raw_data\")\n",
    "NAS_PROC_DIR = Path(\"/local/tensor/Ruoyi/ruoyi_rotation_project/processed_data\")\n",
    "OLF_CONFIG_DIR = PRJ_DATA_DIR / \"olfactometer_configs\""
   ],
   "id": "ba3630e626308ad9",
   "outputs": [
    {
     "name": "stdout",
     "output_type": "stream",
     "text": [
      "\n",
      "setting project paths for None\n"
     ]
    }
   ],
   "execution_count": 1
  },
  {
   "metadata": {
    "ExecuteTime": {
     "end_time": "2025-05-28T21:54:53.010595Z",
     "start_time": "2025-05-28T21:54:53.008244Z"
    }
   },
   "cell_type": "code",
   "source": [
    "print(matplotlib.get_configdir())\n",
    "matplotlib.style.reload_library()\n",
    "matplotlib.style.use('remy-default')\n"
   ],
   "id": "8273d7c3b04400d9",
   "outputs": [
    {
     "name": "stdout",
     "output_type": "stream",
     "text": [
      "/home/remy/.config/matplotlib\n"
     ]
    }
   ],
   "execution_count": 2
  },
  {
   "metadata": {
    "ExecuteTime": {
     "end_time": "2025-05-28T21:54:53.056794Z",
     "start_time": "2025-05-28T21:54:53.055012Z"
    }
   },
   "cell_type": "code",
   "source": [
    "def load_thorsync_line_mapping(microscope_name):\n",
    "    \"\"\"Load ThorSync line name mapping config\"\"\"\n",
    "    line_config_folder = Path(\"/home/remy/PycharmProjects/rye2p/data/microscopes\")\n",
    "\n",
    "    thorsync_line_file = line_config_folder.joinpath(\n",
    "            f\"{microscope_name}/thorsync_lines.yaml\"\n",
    "            )\n",
    "\n",
    "    with open(thorsync_line_file, 'r') as f:\n",
    "        matched_lines = yaml.safe_load(f)\n",
    "\n",
    "    return matched_lines"
   ],
   "id": "bc49de48d36e1a2e",
   "outputs": [],
   "execution_count": 3
  },
  {
   "metadata": {},
   "cell_type": "markdown",
   "source": [
    "# ThorSync pre-processing demo\n",
    "\n",
    "We convert .raw ThorImage movies into more easily readable .tif stacks, and save them to a processed data folder.\n",
    "\n",
    "The Experiment.xml file is also copied to the processed data folder, and important information about the ThorImage\n",
    "recording is saved to `thorimage_settings.yaml`."
   ],
   "id": "fdd120f07a52a83e"
  },
  {
   "metadata": {},
   "cell_type": "markdown",
   "source": [
    "# Set dataset info\n",
    "\n",
    "ThorImage and ThorSync files are assumed to be stored in `RAW_DATA_DIR` in directories with the following structure:\n",
    "```\n",
    "raw_data/\n",
    "+-- {{date_imaged}}\n",
    "    +-- {{fly_num}}\n",
    "        +-- {{thorimage_name}}\n",
    "        +-- {{thorsync_name}}\n",
    "```\n",
    "\n",
    "We save the preprocessed outputs to:\n",
    "```\n",
    "processed_data/\n",
    "+-- {{date_imaged}}\n",
    "    +-- {{fly_num}}\n",
    "        +-- {{thorimage_name}} # proc_mov_dir\n",
    "            +-- timestamps.npy\n",
    "```"
   ],
   "id": "7927bcf2fa643b87"
  },
  {
   "metadata": {
    "ExecuteTime": {
     "end_time": "2025-05-28T21:54:53.118472Z",
     "start_time": "2025-05-28T21:54:53.115472Z"
    }
   },
   "cell_type": "code",
   "source": [
    "date_imaged = '2025-05-25'\n",
    "thorsync_name = 'SyncData001'\n",
    "olf_config = '20250525_131507_stimuli.yaml'\n",
    "\n",
    "\n",
    "# Set these manually if desired\n",
    "thorsync_folder = RAW_DATA_DIR.joinpath(date_imaged,\n",
    "                                        'PID',\n",
    "                                        thorsync_name)\n",
    "\n",
    "proc_mov_dir = NAS_PROC_DIR.joinpath(date_imaged, 'PID', thorsync_name)\n",
    "proc_mov_dir.mkdir(parents=True, exist_ok=True)"
   ],
   "id": "6dc3c1cf4b6c605b",
   "outputs": [],
   "execution_count": 4
  },
  {
   "metadata": {},
   "cell_type": "markdown",
   "source": "# Convert olfactometer config",
   "id": "a12e557c55ea0616"
  },
  {
   "metadata": {
    "ExecuteTime": {
     "end_time": "2025-05-28T21:54:53.446708Z",
     "start_time": "2025-05-28T21:54:53.159759Z"
    }
   },
   "cell_type": "code",
   "source": [
    "olf_config_file = OLF_CONFIG_DIR.joinpath(olf_config)\n",
    "\n",
    "df_pins2odors, df_stim = olf_configs.parse_olf_config_file_downstairs(\n",
    "        olf_config_file, is_two_component_ramp=False)\n",
    "\n",
    "# save stim info\n",
    "df_pins2odors.to_csv(proc_mov_dir.joinpath('df_pins2odors.csv'), sep=\"\\t\")\n",
    "df_stim.to_csv(proc_mov_dir.joinpath('df_stim.csv'), sep=\"\\t\")\n",
    "\n",
    "stim_list = dict(stim_list_flatstr=df_stim['stim'].to_list())\n",
    "with open(proc_mov_dir.joinpath('stim_list.json'), \"w\") as f:\n",
    "    json.dump(stim_list, f)"
   ],
   "id": "b527a7dadd499818",
   "outputs": [],
   "execution_count": 5
  },
  {
   "metadata": {},
   "cell_type": "markdown",
   "source": [
    "# Load ThorSync lines\n",
    "\n",
    "## Get the line names\n",
    "\n",
    "There are some ThorSync line that we usually want to load from the .h5 file. The line names are inconsistent across\n",
    "microscopes due to varying lower/upper-case and spacing.\n",
    "\n",
    "We use a dictionary of line name mappings so we can find and load them consistently.\n",
    "```\n",
    "rye2p/data/microscopes\n",
    "--+ downstairs_2p\n",
    "    --+ thorsync_lines.yaml\n",
    "```\n",
    "\n",
    "Alternatively, set the line name mappings yourself manually.\n",
    "\n",
    "```python\n",
    "line_mapping = load_thorsync_line_mapping(microscope_name)\n",
    "\n",
    "line_mapping = {'piezo_monitor': 'Piezo Monitor',\n",
    "                 'pockels_monitor': 'Pockels1 Monitor',\n",
    "                 'olf_disp_pin': 'olfDispPin',\n",
    "                 'pid': 'pid',\n",
    "                 'frame_counter': 'Frame Counter',\n",
    "                 'lightpath_shutter': 'flipperMirror',\n",
    "                 'frame_in': 'Frame In',\n",
    "                 'frame_out': 'Frame Out',\n",
    "                 'scope_pin': 'scopePin'}\n",
    "```\n",
    "\n",
    "To look at the data inside the .h5 file (to check the actual line names), do the following:\n",
    "\n",
    "```python\n",
    "from rye2p.thorsync.utils import preview_hdf5\n",
    "\n",
    "preview_hdf5.utils.preview_hdf5(thorsync_folder.joinpath('Episode001.h5'))\n",
    "```\n",
    "Output:\n",
    "```\n",
    "AI\n",
    "\t<HDF5 dataset \"Piezo Monitor\": shape (28331999, 1), type \"<f8\">\n",
    "\t<HDF5 dataset \"Pockels1 Monitor\": shape (28331999, 1), type \"<f8\">\n",
    "\t<HDF5 dataset \"ai2\": shape (28331999, 1), type \"<f8\">\n",
    "\t<HDF5 dataset \"ai5\": shape (28331999, 1), type \"<f8\">\n",
    "\t<HDF5 dataset \"flipperMirror\": shape (28331999, 1), type \"<f8\">\n",
    "\t<HDF5 dataset \"olfDispPin\": shape (28331999, 1), type \"<f8\">\n",
    "\t<HDF5 dataset \"pid\": shape (28331999, 1), type \"<f8\">\n",
    "\t<HDF5 dataset \"scopePin_OLD\": shape (28331999, 1), type \"<f8\">\n",
    "CI\n",
    "\t<HDF5 dataset \"Frame Counter\": shape (28331999, 1), type \"<u4\">\n",
    "DI\n",
    "\t<HDF5 dataset \"Bleach Complete\": shape (28331999, 1), type \"<u4\">\n",
    "\t<HDF5 dataset \"Bleach Out\": shape (28331999, 1), type \"<u4\">\n",
    "\t<HDF5 dataset \"Digital 01\": shape (28331999, 1), type \"<u4\">\n",
    "\t<HDF5 dataset \"Frame In\": shape (28331999, 1), type \"<u4\">\n",
    "\t<HDF5 dataset \"Frame Out\": shape (28331999, 1), type \"<u4\">\n",
    "\t<HDF5 dataset \"Line 4\": shape (28331999, 1), type \"<u4\">\n",
    "\t<HDF5 dataset \"Line 7\": shape (28331999, 1), type \"<u4\">\n",
    "\t<HDF5 dataset \"scopePin\": shape (28331999, 1), type \"<u4\">\n",
    "Global\n",
    "\t<HDF5 dataset \"GCtr\": shape (28331999, 1), type \"<u8\">\n",
    "```"
   ],
   "id": "9ad73b9ce8ece52e"
  },
  {
   "metadata": {
    "ExecuteTime": {
     "end_time": "2025-05-28T21:54:53.460953Z",
     "start_time": "2025-05-28T21:54:53.457529Z"
    }
   },
   "cell_type": "code",
   "source": [
    "# Load the ThorSync line mappings\n",
    "line_mapping = load_thorsync_line_mapping('downstairs-2p')\n",
    "line_mapping"
   ],
   "id": "d097fed9ee2ebb97",
   "outputs": [
    {
     "data": {
      "text/plain": [
       "{'piezo_monitor': 'Piezo Monitor',\n",
       " 'pockels_monitor': 'Pockels1 Monitor',\n",
       " 'olf_disp_pin': 'olfDispPin',\n",
       " 'pid': 'pid',\n",
       " 'frame_counter': 'Frame Counter',\n",
       " 'lightpath_shutter': 'flipperMirror',\n",
       " 'frame_in': 'Frame In',\n",
       " 'frame_out': 'Frame Out',\n",
       " 'scope_pin': 'scopePin'}"
      ]
     },
     "execution_count": 6,
     "metadata": {},
     "output_type": "execute_result"
    }
   ],
   "execution_count": 6
  },
  {
   "metadata": {
    "ExecuteTime": {
     "end_time": "2025-05-28T21:54:53.508425Z",
     "start_time": "2025-05-28T21:54:53.506343Z"
    }
   },
   "cell_type": "code",
   "source": "thorsync_folder",
   "id": "214282281a74d51d",
   "outputs": [
    {
     "data": {
      "text/plain": [
       "PosixPath('/local/tensor/Ruoyi/ruoyi_rotation_project/raw_data/2025-05-25/PID/SyncData001')"
      ]
     },
     "execution_count": 7,
     "metadata": {},
     "output_type": "execute_result"
    }
   ],
   "execution_count": 7
  },
  {
   "metadata": {},
   "cell_type": "markdown",
   "source": [
    "## Load the ThorSync lines from .h5 file\n",
    "\n",
    "Read from `{{thorsync_folder}}/Episode001.h5`, and make the corresponding timestamps."
   ],
   "id": "ea8bfddc148d31ae"
  },
  {
   "metadata": {
    "ExecuteTime": {
     "end_time": "2025-05-28T21:56:32.248144Z",
     "start_time": "2025-05-28T21:54:53.554254Z"
    }
   },
   "cell_type": "code",
   "source": [
    "# Load lines from ThorSync .h5 file\n",
    "# Load them from Episode001.h5 with values from `line_mapping`\n",
    "# Save them as a dict with keys from `line_mapping`\n",
    "\n",
    "sync_lines = utils2p.synchronization.get_lines_from_sync_file(\n",
    "        thorsync_folder.joinpath('Episode001.h5'), line_mapping.values())\n",
    "\n",
    "sync_lines = dict(zip(line_mapping.keys(), sync_lines))"
   ],
   "id": "99b9bbe2f7d08d13",
   "outputs": [],
   "execution_count": 8
  },
  {
   "metadata": {},
   "cell_type": "markdown",
   "source": "### Make array of timestamps",
   "id": "3c33520df74f5399"
  },
  {
   "metadata": {
    "ExecuteTime": {
     "end_time": "2025-05-28T21:56:33.205200Z",
     "start_time": "2025-05-28T21:56:32.990662Z"
    }
   },
   "cell_type": "code",
   "source": [
    "# Load ThorSync metadata for frequency, and make timestamps using frequency\n",
    "sync_meta = utils2p.synchronization.SyncMetadata(\n",
    "        thorsync_folder.joinpath(\"ThorRealTimeDataSettings.xml\")\n",
    "        )\n",
    "\n",
    "# %% Make timestamps for the entire ThorSync recording and add to `sync_lines`\n",
    "sync_times = utils2p.synchronization.get_times(sync_lines['frame_counter'].size,\n",
    "                                               sync_meta.get_freq()\n",
    "                                               )"
   ],
   "id": "8803b196a8341a33",
   "outputs": [],
   "execution_count": 9
  },
  {
   "metadata": {
    "ExecuteTime": {
     "end_time": "2025-05-28T21:56:34.817734Z",
     "start_time": "2025-05-28T21:56:34.797858Z"
    }
   },
   "cell_type": "code",
   "source": "print(f\"thorsync mlength (min): {sync_times.max() / 60.0}\")",
   "id": "ce9ba2e62fe0a6f",
   "outputs": [
    {
     "name": "stdout",
     "output_type": "stream",
     "text": [
      "thorsync mlength (min): 24.15499888888889\n"
     ]
    }
   ],
   "execution_count": 10
  },
  {
   "metadata": {},
   "cell_type": "markdown",
   "source": [
    "## Downsample to a sampling rate of 1000 Hz\n",
    "\n",
    "Decimate all lines, except `frame_counter`."
   ],
   "id": "fe9275845937c54"
  },
  {
   "metadata": {
    "ExecuteTime": {
     "end_time": "2025-05-28T21:56:45.177539Z",
     "start_time": "2025-05-28T21:56:34.848080Z"
    }
   },
   "cell_type": "code",
   "source": [
    "# Downsample to 1000 Hz signal\n",
    "target_Fs = 1000\n",
    "n_decimate = int(sync_meta.get_freq() / target_Fs)\n",
    "\n",
    "sync_lines_ds = {k: signal.decimate(v, q=n_decimate) for k, v in sync_lines.items() if k != 'frame_counter'}\n",
    "sync_lines_ds['frame_counter'] = sync_lines['frame_counter'][::n_decimate]\n",
    "sync_lines_ds['time'] = sync_times[::n_decimate]\n",
    "\n",
    "# save as compressed .npz file\n",
    "np.savez_compressed(proc_mov_dir.joinpath('sync_lines.npz'), **sync_lines_ds)"
   ],
   "id": "c706ecb73532dd9f",
   "outputs": [],
   "execution_count": 11
  },
  {
   "metadata": {},
   "cell_type": "markdown",
   "source": "## Reload decimated sync_lines",
   "id": "bbc4998748637aa0"
  },
  {
   "metadata": {
    "ExecuteTime": {
     "end_time": "2025-05-28T21:56:45.251067Z",
     "start_time": "2025-05-28T21:56:45.185989Z"
    }
   },
   "cell_type": "code",
   "source": [
    "# Reload decimated sync lines\n",
    "sync_lines = np.load(proc_mov_dir.joinpath('sync_lines.npz'))\n",
    "sync_lines.files"
   ],
   "id": "c5b78daa37566afe",
   "outputs": [
    {
     "data": {
      "text/plain": [
       "['piezo_monitor',\n",
       " 'pockels_monitor',\n",
       " 'olf_disp_pin',\n",
       " 'pid',\n",
       " 'lightpath_shutter',\n",
       " 'frame_in',\n",
       " 'frame_out',\n",
       " 'scope_pin',\n",
       " 'frame_counter',\n",
       " 'time']"
      ]
     },
     "execution_count": 12,
     "metadata": {},
     "output_type": "execute_result"
    }
   ],
   "execution_count": 12
  },
  {
   "metadata": {
    "ExecuteTime": {
     "end_time": "2025-05-28T21:56:45.278131Z",
     "start_time": "2025-05-28T21:56:45.258307Z"
    }
   },
   "cell_type": "code",
   "source": [
    "# get sampling rate of timestamps\n",
    "target_Fs = (1 / np.diff(sync_lines['time']).mean())\n",
    "if target_Fs.is_integer():\n",
    "    target_Fs = int(target_Fs)\n",
    "\n",
    "# list line names\n",
    "sync_lines.files"
   ],
   "id": "d7cf1999ad610f48",
   "outputs": [
    {
     "data": {
      "text/plain": [
       "['piezo_monitor',\n",
       " 'pockels_monitor',\n",
       " 'olf_disp_pin',\n",
       " 'pid',\n",
       " 'lightpath_shutter',\n",
       " 'frame_in',\n",
       " 'frame_out',\n",
       " 'scope_pin',\n",
       " 'frame_counter',\n",
       " 'time']"
      ]
     },
     "execution_count": 13,
     "metadata": {},
     "output_type": "execute_result"
    }
   ],
   "execution_count": 13
  },
  {
   "metadata": {
    "ExecuteTime": {
     "end_time": "2025-05-28T21:56:45.497215Z",
     "start_time": "2025-05-28T21:56:45.306863Z"
    }
   },
   "cell_type": "code",
   "source": [
    "fig, ax = plt.subplots(figsize=(8, 2))\n",
    "ax.plot(sync_lines['time'], sync_lines['pid'], lw=0.5)\n",
    "ax.set(ylabel='PID (V)',\n",
    "       xlabel='time (s)',\n",
    "       # ylim=(0, 2)\n",
    "       )\n",
    "plt.show()"
   ],
   "id": "8acc203700435521",
   "outputs": [
    {
     "data": {
      "text/plain": [
       "<Figure size 800x200 with 1 Axes>"
      ],
      "image/png": "[encoded data removed]"
     },
     "metadata": {},
     "output_type": "display_data"
    }
   ],
   "execution_count": 14
  },
  {
   "metadata": {
    "ExecuteTime": {
     "end_time": "2025-05-28T21:56:45.799381Z",
     "start_time": "2025-05-28T21:56:45.505019Z"
    }
   },
   "cell_type": "code",
   "source": [
    "%matplotlib inline\n",
    "\n",
    "# plot scope_pin and olf_disp_pin\n",
    "with plt.ioff():\n",
    "    fig, axarr = plt.subplots(2, 1)\n",
    "\n",
    "for line, ax in zip(['scope_pin', 'olf_disp_pin'], axarr.flat):\n",
    "    ax.plot(sync_lines['time'], sync_lines[line], lw=1)\n",
    "    ax.set_box_aspect(0.2)\n",
    "    ax.set_title(line)\n",
    "plt.tight_layout()\n",
    "\n",
    "plt.show()"
   ],
   "id": "24226a163877f425",
   "outputs": [
    {
     "data": {
      "text/plain": [
       "<Figure size 640x480 with 2 Axes>"
      ],
      "image/png": "[encoded data removed]"
     },
     "metadata": {},
     "output_type": "display_data"
    }
   ],
   "execution_count": 15
  },
  {
   "metadata": {},
   "cell_type": "markdown",
   "source": " # Get raw frame timepoints",
   "id": "65130c9c5332508b"
  },
  {
   "metadata": {},
   "cell_type": "markdown",
   "source": [
    "Next, for each frame, we extract the timestamps using `frame_counter`.\n",
    "\n",
    "Note that this will probably not match the # of timepoints and frames in the ThorImage Experiment.xml file.\n"
   ],
   "id": "10ff25c5381d6885"
  },
  {
   "metadata": {
    "ExecuteTime": {
     "end_time": "2025-05-28T21:56:45.858603Z",
     "start_time": "2025-05-28T21:56:45.808511Z"
    }
   },
   "cell_type": "code",
   "source": [
    "raw_frame_times = utils2p.synchronization.get_start_times(sync_lines['frame_counter'],\n",
    "                                                          sync_lines['time'],\n",
    "                                                          zero_based_counter=False)\n",
    "sync_lines['frame_counter'].max()\n",
    "\n",
    "print(f\"frames in ThorSync recording: {raw_frame_times.size}\")\n"
   ],
   "id": "d3929d8d6f047052",
   "outputs": [
    {
     "name": "stdout",
     "output_type": "stream",
     "text": [
      "frames in ThorSync recording: 0\n"
     ]
    }
   ],
   "execution_count": 16
  },
  {
   "metadata": {},
   "cell_type": "markdown",
   "source": [
    "# Process the lines that serve as TTL pulses\n",
    "\n",
    "We want to scale these between 0 and 1, and then filter the signal based on an expected minimum pulse length.\n",
    "\n",
    "We do this for the following lines:\n",
    "\n",
    "- scope_pin\n",
    "- olf_disp_pin\n",
    "- frame_out\n",
    "- lightpath_shutter\n",
    "\n",
    "## Max scale TTL lines"
   ],
   "id": "d1d11e3aa8099d4"
  },
  {
   "metadata": {
    "ExecuteTime": {
     "end_time": "2025-05-28T21:56:46.067007Z",
     "start_time": "2025-05-28T21:56:45.869954Z"
    }
   },
   "cell_type": "code",
   "source": [
    "# scale `scope_pin`\n",
    "scope_pin = sync_lines['scope_pin'] / sync_lines['scope_pin'].max()\n",
    "olf_disp_pin = sync_lines['olf_disp_pin'] / sync_lines['olf_disp_pin'].max()\n",
    "# frame_out = sync_lines['frame_out'] / sync_lines['frame_out'].max()\n",
    "lightpath_shutter = sync_lines['lightpath_shutter'] / sync_lines['lightpath_shutter'].max()\n",
    "\n",
    "proc_sync_lines = dict(scope_pin=scope_pin,\n",
    "                       olf_disp_pin=olf_disp_pin,\n",
    "                       # frame_out=frame_out,\n",
    "                       # lightpath_shutter=lightpath_shutter,\n",
    "                       time=sync_lines['time']\n",
    "                       )"
   ],
   "id": "d2bb1671dac5fb63",
   "outputs": [],
   "execution_count": 17
  },
  {
   "metadata": {},
   "cell_type": "markdown",
   "source": [
    "## Find rising and falling edges\n",
    "\n",
    "### Scope trigger\n",
    "The microscope acquisition trigger onset/offset times are determined from `scope_pin`.\n",
    "\n",
    "We compute `scope_ict`(\"initial cross time\", i.e. the time when scope_pin goes high) and `scope_fct` (\"final cross\n",
    "time\", i.e. the time when scope_pin goes low)."
   ],
   "id": "b70d0f32a7458cfc"
  },
  {
   "metadata": {
    "ExecuteTime": {
     "end_time": "2025-05-28T21:56:46.136753Z",
     "start_time": "2025-05-28T21:56:46.079165Z"
    }
   },
   "cell_type": "code",
   "source": [
    "# With utils2p, Find rising and falling edges in olf_disp_pin\n",
    "\n",
    "voltage_threshold = 0.8\n",
    "\n",
    "scope_ici, = utils2p.synchronization.edges(scope_pin, size=voltage_threshold)\n",
    "scope_fci, = utils2p.synchronization.edges(scope_pin, size=(-np.inf, -1 * voltage_threshold))\n",
    "\n",
    "scope_ict = sync_lines['time'][scope_ici]\n",
    "scope_fct = sync_lines['time'][scope_fci]"
   ],
   "id": "4fb64bcc76991f01",
   "outputs": [],
   "execution_count": 18
  },
  {
   "metadata": {
    "ExecuteTime": {
     "end_time": "2025-05-28T21:56:46.144371Z",
     "start_time": "2025-05-28T21:56:46.140983Z"
    }
   },
   "cell_type": "code",
   "source": [
    "\n",
    "display('scope_ict')\n",
    "display(scope_ict)\n",
    "\n",
    "display('scope_fct')\n",
    "display(scope_fct)"
   ],
   "id": "abf636e9250e1fa1",
   "outputs": [
    {
     "data": {
      "text/plain": [
       "'scope_ict'"
      ]
     },
     "metadata": {},
     "output_type": "display_data"
    },
    {
     "data": {
      "text/plain": [
       "array([9.267])"
      ]
     },
     "metadata": {},
     "output_type": "display_data"
    },
    {
     "data": {
      "text/plain": [
       "'scope_fct'"
      ]
     },
     "metadata": {},
     "output_type": "display_data"
    },
    {
     "data": {
      "text/plain": [
       "array([1446.966])"
      ]
     },
     "metadata": {},
     "output_type": "display_data"
    }
   ],
   "execution_count": 19
  },
  {
   "metadata": {},
   "cell_type": "markdown",
   "source": "### Olfactometer pin",
   "id": "5334efaa48b5048f"
  },
  {
   "metadata": {
    "ExecuteTime": {
     "end_time": "2025-05-28T21:56:46.314891Z",
     "start_time": "2025-05-28T21:56:46.195247Z"
    }
   },
   "cell_type": "code",
   "source": [
    "\n",
    "### Find rising and falling edges in olf_disp_pin\n",
    "voltage_threshold = 0.8\n",
    "\n",
    "olf_ici = utils2p.synchronization.edges(olf_disp_pin, size=voltage_threshold)\n",
    "olf_fci = utils2p.synchronization.edges(olf_disp_pin, size=(-np.inf, -1 * voltage_threshold))\n",
    "\n",
    "olf_ict = sync_lines['time'][olf_ici]\n",
    "olf_fct = sync_lines['time'][olf_fci]"
   ],
   "id": "26fd128dc06b665f",
   "outputs": [],
   "execution_count": 20
  },
  {
   "metadata": {
    "ExecuteTime": {
     "end_time": "2025-05-28T21:56:46.327735Z",
     "start_time": "2025-05-28T21:56:46.326166Z"
    }
   },
   "cell_type": "code",
   "source": [
    "olf_ict = olf_ict[(olf_ict > scope_ict[0]) & (olf_ict < scope_fct[0])]\n",
    "olf_fct = olf_fct[(olf_fct > scope_ict[0]) & (olf_fct < scope_fct[0])]"
   ],
   "id": "1f0619d05eeca894",
   "outputs": [],
   "execution_count": 21
  },
  {
   "metadata": {
    "ExecuteTime": {
     "end_time": "2025-05-28T21:56:46.422523Z",
     "start_time": "2025-05-28T21:56:46.375061Z"
    }
   },
   "cell_type": "code",
   "source": [
    "# Alternatively, use scipy.signal.find_peaks\n",
    "peaks, peak_props = signal.find_peaks(olf_disp_pin,\n",
    "                                      height=0.5,\n",
    "                                      width=2 * target_Fs)\n",
    "peak_olf_ict = sync_lines['time'][peak_props['left_ips'].round().astype('int')]\n",
    "peak_olf_fct = sync_lines['time'][peak_props['right_ips'].round().astype('int')]\n",
    "\n"
   ],
   "id": "fa7a555401e8f04f",
   "outputs": [],
   "execution_count": 22
  },
  {
   "metadata": {},
   "cell_type": "markdown",
   "source": "## Plot the processed lines and extracted onset/offset times",
   "id": "7f38b4cc78920dcf"
  },
  {
   "metadata": {
    "ExecuteTime": {
     "end_time": "2025-05-28T21:56:47.234009Z",
     "start_time": "2025-05-28T21:56:46.433403Z"
    }
   },
   "cell_type": "code",
   "source": [
    "%matplotlib inline\n",
    "\n",
    "fig, axarr = plt.subplots(4, 1, figsize=(11, 8.5),\n",
    "                          sharex=True, sharey=False)\n",
    "\n",
    "# scope pin\n",
    "axarr[0].plot(proc_sync_lines['time'], proc_sync_lines['scope_pin'], lw=1, color='k')\n",
    "axarr[0].set_title('scope_pin')\n",
    "# for ict, fct in zip(scope_ict, scope_fct):\n",
    "#     axarr[0].axvspan(ict, fct, alpha=0.5, zorder=0, )\n",
    "\n",
    "axarr[1].plot(proc_sync_lines['time'], proc_sync_lines['olf_disp_pin'], lw=0.5)\n",
    "axarr[1].set_title('olf_disp_pin')\n",
    "for ict, fct in zip(olf_ict, olf_fct):\n",
    "    axarr[1].axvspan(ict, fct, alpha=0.5, color='r', lw=0, zorder=0.5)\n",
    "\n",
    "ax = axarr[2]\n",
    "ax.plot(sync_lines['time'], sync_lines['pid'], lw=0.5, color='k')\n",
    "ax.set_title('pid')\n",
    "\n",
    "ax = axarr[3]\n",
    "ax.plot(sync_lines['time'], sync_lines['piezo_monitor'], lw=0.5, color='k')\n",
    "ax.set_title('piezo_monitor')\n",
    "ax.figure.suptitle(str(proc_mov_dir),\n",
    "                   fontsize=10, va='top', ha='right', y=0.995, x=0.995\n",
    "                   )\n",
    "\n",
    "for ax in axarr.flat:\n",
    "    for ict, fct in zip(scope_ict, scope_fct):\n",
    "        ax.axvspan(ict, fct, alpha=0.2, zorder=0, lw=0)\n",
    "\n",
    "# axarr[3].set_ylim((-0.1, 3))\n",
    "plt.tight_layout()\n",
    "fig.canvas.draw()"
   ],
   "id": "6e2177f5f7489022",
   "outputs": [
    {
     "data": {
      "text/plain": [
       "<Figure size 1100x850 with 4 Axes>"
      ],
      "image/png": "[encoded data removed]"
     },
     "metadata": {},
     "output_type": "display_data"
    }
   ],
   "execution_count": 23
  },
  {
   "metadata": {
    "ExecuteTime": {
     "end_time": "2025-05-28T21:56:47.788891Z",
     "start_time": "2025-05-28T21:56:47.245298Z"
    }
   },
   "cell_type": "code",
   "source": "ax.figure.savefig(proc_mov_dir / \"sync_lines_processed.png\", dpi=300)",
   "id": "a83404be8e87f00e",
   "outputs": [],
   "execution_count": 24
  },
  {
   "metadata": {},
   "cell_type": "markdown",
   "source": [
    "# Scope trigger\n",
    "The microscope acquisition trigger onset/offset times are determined from `scope_pin`.\n",
    "\n",
    "We compute `scope_ict`(\"initial cross time\", i.e. the time when scope_pin goes high) and `scope_fct` (\"final cross\n",
    "time\", i.e. the time when scope_pin goes low)."
   ],
   "id": "d07e45c2e5409f65"
  },
  {
   "metadata": {},
   "cell_type": "markdown",
   "source": [
    "Process ThorSync lines\n",
    "\n",
    "We want to extract frame timestamps and olfactometer onset/offset times.\n",
    "\n",
    "To extract frame timestamps, we need to use the following lines from ThorSync:\n",
    "- `frame_counter`: We use `frame_counter` increments as the time when a frame was acquired.\n",
    "- `scope_pin`: In stimulus-triggered mode, the microscope acquires images for as long as `scope_pin` is high. Once\n",
    "`scope_pin` is low, it will stop acquiring, but it often collects images for a small time window after.\n",
    "\n",
    "Note that the value of `frame_counter` usually doesn't match the frame number in the ThorImage `Experiment.xml` file.\n",
    "\n",
    "This is because `frame_counter` increments whenever the microscope acquires a new frame. Not all of these frames are\n",
    "saved to the .raw movie. We want to extract the timestamps of ONLY the frames that were saved to the .raw file.\n",
    "\n",
    "Therefore, we must filter the raw frame times computed from `frame_counter` to match the number of frames and\n",
    "timepoints\n",
    "in the ThorImage metadata.\n"
   ],
   "id": "efa45969313bcb6"
  },
  {
   "metadata": {
    "ExecuteTime": {
     "end_time": "2025-05-28T21:56:47.800339Z",
     "start_time": "2025-05-28T21:56:47.799156Z"
    }
   },
   "cell_type": "code",
   "source": [
    "# # Load Thorimage settings\n",
    "# with open(proc_mov_dir.joinpath('thorimage_settings.yaml'), 'r') as f:\n",
    "#     thorimage_settings = yaml.safe_load(f)\n",
    "#\n",
    "# thorimage_settings['thorsync_name'] = thorsync_name\n",
    "#\n",
    "# thorimage_settings"
   ],
   "id": "c9682895dba90720",
   "outputs": [],
   "execution_count": 25
  },
  {
   "metadata": {},
   "cell_type": "markdown",
   "source": "# Save PID-related timestamps",
   "id": "da0efa9031455eba"
  },
  {
   "metadata": {
    "ExecuteTime": {
     "end_time": "2025-05-28T21:56:47.877600Z",
     "start_time": "2025-05-28T21:56:47.849414Z"
    }
   },
   "cell_type": "code",
   "source": [
    "# Save relevant ThorSync files\n",
    "\n",
    "timestamps = dict(\n",
    "        scope_ict=scope_ict,\n",
    "        scope_fct=scope_fct,\n",
    "        olf_ict=olf_ict,\n",
    "        olf_fct=olf_fct,\n",
    "        )\n",
    "np.save(proc_mov_dir.joinpath('timestamps.npy'), timestamps)"
   ],
   "id": "558803fe5ac8daca",
   "outputs": [],
   "execution_count": 26
  },
  {
   "metadata": {
    "ExecuteTime": {
     "end_time": "2025-05-28T21:56:47.907117Z",
     "start_time": "2025-05-28T21:56:47.905952Z"
    }
   },
   "cell_type": "code",
   "source": "",
   "id": "56aa1a54e7207d8c",
   "outputs": [],
   "execution_count": null
  }
 ],
 "metadata": {
  "kernelspec": {
   "display_name": "Python 3",
   "language": "python",
   "name": "python3"
  },
  "language_info": {
   "codemirror_mode": {
    "name": "ipython",
    "version": 2
   },
   "file_extension": ".py",
   "mimetype": "text/x-python",
   "name": "python",
   "nbconvert_exporter": "python",
   "pygments_lexer": "ipython2",
   "version": "2.7.6"
  }
 },
 "nbformat": 4,
 "nbformat_minor": 5
}
