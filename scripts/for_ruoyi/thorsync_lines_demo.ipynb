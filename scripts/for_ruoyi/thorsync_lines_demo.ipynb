{
 "cells": [
  {
   "metadata": {
    "ExecuteTime": {
     "end_time": "2025-05-28T23:02:53.236447Z",
     "start_time": "2025-05-28T23:02:52.587645Z"
    }
   },
   "cell_type": "code",
   "source": [
    "import matplotlib\n",
    "import matplotlib.pyplot as plt\n",
    "import numpy as np\n",
    "import utils2p.synchronization\n",
    "import yaml\n",
    "from pathlib import Path\n",
    "from scipy import signal\n",
    "from rye2p import olf_configs\n",
    "import json\n",
    "import pprint as pp\n",
    "\n",
    "# from rye2p.thorimage.settings import thorimage_settings\n",
    "# import matplotlib.font_manager as fm\n",
    "\n",
    "# set upstairs or downstairs microscope\n",
    "microscope = 'downstairs-2p'\n",
    "\n",
    "# set project directory paths\n",
    "PRJ_DATA_DIR = Path(\"/local/tensor/Ruoyi/ruoyi_rotation_project\")\n",
    "RAW_DATA_DIR = Path(\"/local/tensor/Ruoyi/ruoyi_rotation_project/raw_data\")\n",
    "NAS_PROC_DIR = Path(\"/local/tensor/Ruoyi/ruoyi_rotation_project/processed_data\")\n",
    "OLF_CONFIG_DIR = PRJ_DATA_DIR / \"olfactometer_configs\"\n"
   ],
   "id": "ba3630e626308ad9",
   "outputs": [
    {
     "name": "stdout",
     "output_type": "stream",
     "text": [
      "\n",
      "setting project paths for None\n"
     ]
    }
   ],
   "execution_count": 1
  },
  {
   "metadata": {
    "ExecuteTime": {
     "end_time": "2025-05-28T23:02:53.302553Z",
     "start_time": "2025-05-28T23:02:53.300266Z"
    }
   },
   "cell_type": "code",
   "source": [
    "print(matplotlib.get_configdir())\n",
    "matplotlib.style.reload_library()\n",
    "matplotlib.style.use('remy-default')\n"
   ],
   "id": "8273d7c3b04400d9",
   "outputs": [
    {
     "name": "stdout",
     "output_type": "stream",
     "text": [
      "/home/remy/.config/matplotlib\n"
     ]
    }
   ],
   "execution_count": 2
  },
  {
   "metadata": {
    "ExecuteTime": {
     "end_time": "2025-05-28T23:02:53.361361Z",
     "start_time": "2025-05-28T23:02:53.359568Z"
    }
   },
   "cell_type": "code",
   "source": [
    "def load_thorsync_line_mapping(microscope_name):\n",
    "    \"\"\"Load ThorSync line name mapping config\"\"\"\n",
    "    line_config_folder = Path(\"/home/remy/PycharmProjects/rye2p/data/microscopes\")\n",
    "\n",
    "    thorsync_line_file = line_config_folder.joinpath(\n",
    "            f\"{microscope_name}/thorsync_lines.yaml\"\n",
    "            )\n",
    "\n",
    "    with open(thorsync_line_file, 'r') as f:\n",
    "        matched_lines = yaml.safe_load(f)\n",
    "\n",
    "    return matched_lines"
   ],
   "id": "bc49de48d36e1a2e",
   "outputs": [],
   "execution_count": 3
  },
  {
   "metadata": {},
   "cell_type": "markdown",
   "source": [
    "# ThorSync pre-processing demo\n",
    "\n",
    "We convert .raw ThorImage movies into more easily readable .tif stacks, and save them to a processed data folder.\n",
    "\n",
    "The Experiment.xml file is also copied to the processed data folder, and important information about the ThorImage\n",
    "recording is saved to `thorimage_settings.yaml`."
   ],
   "id": "fdd120f07a52a83e"
  },
  {
   "metadata": {},
   "cell_type": "markdown",
   "source": [
    "# Set dataset info\n",
    "\n",
    "ThorImage and ThorSync files are assumed to be stored in `RAW_DATA_DIR` in directories with the following structure:\n",
    "```\n",
    "raw_data/\n",
    "+-- {{date_imaged}}\n",
    "    +-- {{fly_num}}\n",
    "        +-- {{thorimage_name}}\n",
    "        +-- {{thorsync_name}}\n",
    "```\n",
    "\n",
    "We save the preprocessed outputs to:\n",
    "```\n",
    "processed_data/\n",
    "+-- {{date_imaged}}\n",
    "    +-- {{fly_num}}\n",
    "        +-- {{thorimage_name}} # proc_mov_dir\n",
    "            +-- timestamps.npy\n",
    "```"
   ],
   "id": "7927bcf2fa643b87"
  },
  {
   "metadata": {
    "ExecuteTime": {
     "end_time": "2025-05-28T23:02:53.407885Z",
     "start_time": "2025-05-28T23:02:53.405951Z"
    }
   },
   "cell_type": "code",
   "source": [
    "date_imaged = '2025-05-25'\n",
    "fly_num = 2\n",
    "thorimage_name = 'IaA_Bnn'\n",
    "thorsync_name = 'SyncData002'\n",
    "olf_config = '20250525_131507_stimuli.yaml'\n",
    "\n",
    "# Set these manually if desired\n",
    "thorimage_folder = RAW_DATA_DIR.joinpath(date_imaged,\n",
    "                                         str(fly_num),\n",
    "                                         thorimage_name)\n",
    "\n",
    "thorsync_folder = RAW_DATA_DIR.joinpath(date_imaged,\n",
    "                                        str(fly_num),\n",
    "                                        thorsync_name)\n",
    "\n",
    "proc_mov_dir = NAS_PROC_DIR.joinpath(date_imaged, str(fly_num), thorimage_name)"
   ],
   "id": "6dc3c1cf4b6c605b",
   "outputs": [],
   "execution_count": 4
  },
  {
   "metadata": {
    "ExecuteTime": {
     "end_time": "2025-05-28T23:02:53.455993Z",
     "start_time": "2025-05-28T23:02:53.451700Z"
    }
   },
   "cell_type": "code",
   "source": "thorsync_folder.is_dir()",
   "id": "c8682ca0e2001542",
   "outputs": [
    {
     "data": {
      "text/plain": [
       "True"
      ]
     },
     "execution_count": 5,
     "metadata": {},
     "output_type": "execute_result"
    }
   ],
   "execution_count": 5
  },
  {
   "metadata": {},
   "cell_type": "markdown",
   "source": "# Convert olfactometer config",
   "id": "54e0af12b843c019"
  },
  {
   "metadata": {
    "ExecuteTime": {
     "end_time": "2025-05-28T23:02:53.615650Z",
     "start_time": "2025-05-28T23:02:53.515904Z"
    }
   },
   "cell_type": "code",
   "source": [
    "olf_config_file = OLF_CONFIG_DIR.joinpath(olf_config)\n",
    "\n",
    "df_pins2odors, df_stim = olf_configs.parse_olf_config_file_downstairs(\n",
    "        olf_config_file, is_two_component_ramp=False)\n",
    "\n",
    "# save stim info\n",
    "df_pins2odors.to_csv(proc_mov_dir.joinpath('df_pins2odors.csv'), sep=\"\\t\")\n",
    "df_stim.to_csv(proc_mov_dir.joinpath('df_stim.csv'), sep=\"\\t\")\n",
    "\n",
    "stim_list = dict(stim_list_flatstr=df_stim['stim'].to_list())\n",
    "with open(proc_mov_dir.joinpath('stim_list.json'), \"w\") as f:\n",
    "    json.dump(stim_list, f)"
   ],
   "id": "847f6ad0c5c293fd",
   "outputs": [],
   "execution_count": 6
  },
  {
   "metadata": {},
   "cell_type": "markdown",
   "source": [
    "# Load ThorSync lines\n",
    "\n",
    "## Get the line names\n",
    "\n",
    "There are some ThorSync line that we usually want to load from the .h5 file. The line names are inconsistent across\n",
    "microscopes due to varying lower/upper-case and spacing.\n",
    "\n",
    "We use a dictionary of line name mappings so we can find and load them consistently.\n",
    "```\n",
    "rye2p/data/microscopes\n",
    "--+ downstairs_2p\n",
    "    --+ thorsync_lines.yaml\n",
    "```\n",
    "\n",
    "Alternatively, set the line name mappings yourself manually.\n",
    "\n",
    "```python\n",
    "line_mapping = load_thorsync_line_mapping(microscope_name)\n",
    "\n",
    "line_mapping = {'piezo_monitor': 'Piezo Monitor',\n",
    "                 'pockels_monitor': 'Pockels1 Monitor',\n",
    "                 'olf_disp_pin': 'olfDispPin',\n",
    "                 'pid': 'pid',\n",
    "                 'frame_counter': 'Frame Counter',\n",
    "                 'lightpath_shutter': 'flipperMirror',\n",
    "                 'frame_in': 'Frame In',\n",
    "                 'frame_out': 'Frame Out',\n",
    "                 'scope_pin': 'scopePin'}\n",
    "```\n",
    "\n",
    "To look at the data inside the .h5 file (to check the actual line names), do the following:\n",
    "\n",
    "```python\n",
    "from rye2p.thorsync.utils import preview_hdf5\n",
    "\n",
    "preview_hdf5.utils.preview_hdf5(thorsync_folder.joinpath('Episode001.h5'))\n",
    "```\n",
    "Output:\n",
    "```\n",
    "AI\n",
    "\t<HDF5 dataset \"Piezo Monitor\": shape (28331999, 1), type \"<f8\">\n",
    "\t<HDF5 dataset \"Pockels1 Monitor\": shape (28331999, 1), type \"<f8\">\n",
    "\t<HDF5 dataset \"ai2\": shape (28331999, 1), type \"<f8\">\n",
    "\t<HDF5 dataset \"ai5\": shape (28331999, 1), type \"<f8\">\n",
    "\t<HDF5 dataset \"flipperMirror\": shape (28331999, 1), type \"<f8\">\n",
    "\t<HDF5 dataset \"olfDispPin\": shape (28331999, 1), type \"<f8\">\n",
    "\t<HDF5 dataset \"pid\": shape (28331999, 1), type \"<f8\">\n",
    "\t<HDF5 dataset \"scopePin_OLD\": shape (28331999, 1), type \"<f8\">\n",
    "CI\n",
    "\t<HDF5 dataset \"Frame Counter\": shape (28331999, 1), type \"<u4\">\n",
    "DI\n",
    "\t<HDF5 dataset \"Bleach Complete\": shape (28331999, 1), type \"<u4\">\n",
    "\t<HDF5 dataset \"Bleach Out\": shape (28331999, 1), type \"<u4\">\n",
    "\t<HDF5 dataset \"Digital 01\": shape (28331999, 1), type \"<u4\">\n",
    "\t<HDF5 dataset \"Frame In\": shape (28331999, 1), type \"<u4\">\n",
    "\t<HDF5 dataset \"Frame Out\": shape (28331999, 1), type \"<u4\">\n",
    "\t<HDF5 dataset \"Line 4\": shape (28331999, 1), type \"<u4\">\n",
    "\t<HDF5 dataset \"Line 7\": shape (28331999, 1), type \"<u4\">\n",
    "\t<HDF5 dataset \"scopePin\": shape (28331999, 1), type \"<u4\">\n",
    "Global\n",
    "\t<HDF5 dataset \"GCtr\": shape (28331999, 1), type \"<u8\">\n",
    "```"
   ],
   "id": "9ad73b9ce8ece52e"
  },
  {
   "metadata": {
    "ExecuteTime": {
     "end_time": "2025-05-28T23:02:53.627677Z",
     "start_time": "2025-05-28T23:02:53.625096Z"
    }
   },
   "cell_type": "code",
   "source": [
    "# Load the ThorSync line mappings\n",
    "line_mapping = load_thorsync_line_mapping('downstairs-2p')\n",
    "line_mapping"
   ],
   "id": "d097fed9ee2ebb97",
   "outputs": [
    {
     "data": {
      "text/plain": [
       "{'piezo_monitor': 'Piezo Monitor',\n",
       " 'pockels_monitor': 'Pockels1 Monitor',\n",
       " 'olf_disp_pin': 'olfDispPin',\n",
       " 'pid': 'pid',\n",
       " 'frame_counter': 'Frame Counter',\n",
       " 'lightpath_shutter': 'flipperMirror',\n",
       " 'frame_in': 'Frame In',\n",
       " 'frame_out': 'Frame Out',\n",
       " 'scope_pin': 'scopePin'}"
      ]
     },
     "execution_count": 7,
     "metadata": {},
     "output_type": "execute_result"
    }
   ],
   "execution_count": 7
  },
  {
   "metadata": {},
   "cell_type": "markdown",
   "source": [
    "## Load the ThorSync lines from .h5 file\n",
    "\n",
    "Read from `{{thorsync_folder}}/Episode001.h5`, and make the corresponding timestamps."
   ],
   "id": "ea8bfddc148d31ae"
  },
  {
   "metadata": {
    "ExecuteTime": {
     "end_time": "2025-05-28T23:04:24.896122Z",
     "start_time": "2025-05-28T23:02:53.701008Z"
    }
   },
   "cell_type": "code",
   "source": [
    "# Load lines from ThorSync .h5 file\n",
    "# Load them from Episode001.h5 with values from `line_mapping`\n",
    "# Save them as a dict with keys from `line_mapping`\n",
    "\n",
    "sync_lines = utils2p.synchronization.get_lines_from_sync_file(\n",
    "        thorsync_folder.joinpath('Episode001.h5'), line_mapping.values())\n",
    "\n",
    "sync_lines = dict(zip(line_mapping.keys(), sync_lines))"
   ],
   "id": "99b9bbe2f7d08d13",
   "outputs": [],
   "execution_count": 8
  },
  {
   "metadata": {},
   "cell_type": "markdown",
   "source": "### Make array of timestamps",
   "id": "3c33520df74f5399"
  },
  {
   "metadata": {
    "ExecuteTime": {
     "end_time": "2025-05-28T23:04:49.209193Z",
     "start_time": "2025-05-28T23:04:49.148068Z"
    }
   },
   "cell_type": "code",
   "source": [
    "# Load ThorSync metadata for frequency, and make timestamps using frequency\n",
    "sync_meta = utils2p.synchronization.SyncMetadata(\n",
    "        thorsync_folder.joinpath(\"ThorRealTimeDataSettings.xml\")\n",
    "        )\n",
    "\n",
    "# %% Make timestamps for the entire ThorSync recording and add to `sync_lines`\n",
    "sync_times = utils2p.synchronization.get_times(sync_lines['frame_counter'].size,\n",
    "                                               sync_meta.get_freq()\n",
    "                                               )"
   ],
   "id": "8803b196a8341a33",
   "outputs": [],
   "execution_count": 9
  },
  {
   "metadata": {
    "ExecuteTime": {
     "end_time": "2025-05-28T23:04:49.238014Z",
     "start_time": "2025-05-28T23:04:49.217962Z"
    }
   },
   "cell_type": "code",
   "source": "print(f\"thorsync mlength (min): {sync_times.max() / 60.0}\")",
   "id": "ce9ba2e62fe0a6f",
   "outputs": [
    {
     "name": "stdout",
     "output_type": "stream",
     "text": [
      "thorsync mlength (min): 24.219998888888888\n"
     ]
    }
   ],
   "execution_count": 10
  },
  {
   "metadata": {},
   "cell_type": "markdown",
   "source": [
    "## Downsample to a sampling rate of 1000 Hz\n",
    "\n",
    "Decimate all lines, except `frame_counter`."
   ],
   "id": "fe9275845937c54"
  },
  {
   "metadata": {
    "ExecuteTime": {
     "end_time": "2025-05-28T23:04:56.956031Z",
     "start_time": "2025-05-28T23:04:49.266948Z"
    }
   },
   "cell_type": "code",
   "source": [
    "# Downsample to 1000 Hz signal\n",
    "target_Fs = 1000\n",
    "n_decimate = int(sync_meta.get_freq() / target_Fs)\n",
    "\n",
    "sync_lines_ds = {k: signal.decimate(v, q=n_decimate) for k, v in sync_lines.items() if k != 'frame_counter'}\n",
    "sync_lines_ds['frame_counter'] = sync_lines['frame_counter'][::n_decimate]\n",
    "sync_lines_ds['time'] = sync_times[::n_decimate]\n",
    "\n",
    "# save as compressed .npz file\n",
    "np.savez_compressed(proc_mov_dir.joinpath('sync_lines.npz'), **sync_lines_ds)"
   ],
   "id": "c706ecb73532dd9f",
   "outputs": [],
   "execution_count": 11
  },
  {
   "metadata": {},
   "cell_type": "markdown",
   "source": "## Reload decimated sync_lines",
   "id": "bbc4998748637aa0"
  },
  {
   "metadata": {
    "ExecuteTime": {
     "end_time": "2025-05-28T23:04:57.025859Z",
     "start_time": "2025-05-28T23:04:56.964791Z"
    }
   },
   "cell_type": "code",
   "source": [
    "# Reload decimated sync lines\n",
    "sync_lines = np.load(proc_mov_dir.joinpath('sync_lines.npz'))\n",
    "sync_lines.files"
   ],
   "id": "c5b78daa37566afe",
   "outputs": [
    {
     "data": {
      "text/plain": [
       "['piezo_monitor',\n",
       " 'pockels_monitor',\n",
       " 'olf_disp_pin',\n",
       " 'pid',\n",
       " 'lightpath_shutter',\n",
       " 'frame_in',\n",
       " 'frame_out',\n",
       " 'scope_pin',\n",
       " 'frame_counter',\n",
       " 'time']"
      ]
     },
     "execution_count": 12,
     "metadata": {},
     "output_type": "execute_result"
    }
   ],
   "execution_count": 12
  },
  {
   "metadata": {
    "ExecuteTime": {
     "end_time": "2025-05-28T23:04:57.099156Z",
     "start_time": "2025-05-28T23:04:57.063366Z"
    }
   },
   "cell_type": "code",
   "source": [
    "# get sampling rate of timestamps\n",
    "target_Fs = (1 / np.diff(sync_lines['time']).mean())\n",
    "if target_Fs.is_integer():\n",
    "    target_Fs = int(target_Fs)\n",
    "\n",
    "# list line names\n",
    "sync_lines.files"
   ],
   "id": "d7cf1999ad610f48",
   "outputs": [
    {
     "data": {
      "text/plain": [
       "['piezo_monitor',\n",
       " 'pockels_monitor',\n",
       " 'olf_disp_pin',\n",
       " 'pid',\n",
       " 'lightpath_shutter',\n",
       " 'frame_in',\n",
       " 'frame_out',\n",
       " 'scope_pin',\n",
       " 'frame_counter',\n",
       " 'time']"
      ]
     },
     "execution_count": 13,
     "metadata": {},
     "output_type": "execute_result"
    }
   ],
   "execution_count": 13
  },
  {
   "metadata": {
    "ExecuteTime": {
     "end_time": "2025-05-28T23:04:57.517464Z",
     "start_time": "2025-05-28T23:04:57.112489Z"
    }
   },
   "cell_type": "code",
   "source": [
    "%matplotlib inline\n",
    "\n",
    "# plot scope_pin and olf_disp_pin\n",
    "with plt.ioff():\n",
    "    fig, axarr = plt.subplots(2, 1, figsize=(8, 4.5),)\n",
    "\n",
    "for line, ax in zip(['scope_pin', 'olf_disp_pin'], axarr.flat):\n",
    "    ax.plot(sync_lines['time'], sync_lines[line], lw=0.5)\n",
    "    ax.set_box_aspect(0.2)\n",
    "    ax.set_title(line)\n",
    "plt.tight_layout()\n",
    "\n",
    "plt.show()"
   ],
   "id": "24226a163877f425",
   "outputs": [
    {
     "data": {
      "text/plain": [
       "<Figure size 800x450 with 2 Axes>"
      ],
      "image/png": "[encoded data removed]"
     },
     "metadata": {},
     "output_type": "display_data"
    }
   ],
   "execution_count": 14
  },
  {
   "metadata": {},
   "cell_type": "markdown",
   "source": " # Get raw frame timepoints",
   "id": "65130c9c5332508b"
  },
  {
   "metadata": {},
   "cell_type": "markdown",
   "source": [
    "Next, for each frame, we extract the timestamps using `frame_counter`.\n",
    "\n",
    "Note that this will probably not match the # of timepoints and frames in the ThorImage Experiment.xml file.\n"
   ],
   "id": "10ff25c5381d6885"
  },
  {
   "metadata": {
    "ExecuteTime": {
     "end_time": "2025-05-28T23:04:57.567137Z",
     "start_time": "2025-05-28T23:04:57.530026Z"
    }
   },
   "cell_type": "code",
   "source": [
    "raw_frame_times = utils2p.synchronization.get_start_times(sync_lines['frame_counter'],\n",
    "                                                          sync_lines['time'],\n",
    "                                                          zero_based_counter=False)\n",
    "sync_lines['frame_counter'].max()\n",
    "\n",
    "print(f\"frames in ThorSync recording: {raw_frame_times.size}\")\n"
   ],
   "id": "d3929d8d6f047052",
   "outputs": [
    {
     "name": "stdout",
     "output_type": "stream",
     "text": [
      "frames in ThorSync recording: 5936\n"
     ]
    }
   ],
   "execution_count": 15
  },
  {
   "metadata": {
    "ExecuteTime": {
     "end_time": "2025-05-28T23:04:57.582416Z",
     "start_time": "2025-05-28T23:04:57.580196Z"
    }
   },
   "cell_type": "code",
   "source": "raw_frame_times[0]",
   "id": "6b995bd8dbc2f147",
   "outputs": [
    {
     "data": {
      "text/plain": [
       "7.612"
      ]
     },
     "execution_count": 16,
     "metadata": {},
     "output_type": "execute_result"
    }
   ],
   "execution_count": 16
  },
  {
   "metadata": {},
   "cell_type": "markdown",
   "source": [
    "# Process the lines that serve as TTL pulses\n",
    "\n",
    "We want to scale these between 0 and 1, and then filter the signal based on an expected minimum pulse length.\n",
    "\n",
    "We do this for the following lines:\n",
    "\n",
    "- scope_pin\n",
    "- olf_disp_pin\n",
    "- frame_out\n",
    "- lightpath_shutter\n",
    "\n",
    "## Max scale TTL lines"
   ],
   "id": "d1d11e3aa8099d4"
  },
  {
   "metadata": {
    "ExecuteTime": {
     "end_time": "2025-05-28T23:04:57.893157Z",
     "start_time": "2025-05-28T23:04:57.631678Z"
    }
   },
   "cell_type": "code",
   "source": [
    "# scale `scope_pin`\n",
    "scope_pin = sync_lines['scope_pin'] / sync_lines['scope_pin'].max()\n",
    "olf_disp_pin = sync_lines['olf_disp_pin'] / sync_lines['olf_disp_pin'].max()\n",
    "# frame_out = sync_lines['frame_out'] / sync_lines['frame_out'].max()\n",
    "lightpath_shutter = sync_lines['lightpath_shutter'] / sync_lines['lightpath_shutter'].max()\n",
    "\n",
    "proc_sync_lines = dict(scope_pin=scope_pin,\n",
    "                       olf_disp_pin=olf_disp_pin,\n",
    "                       # frame_out=frame_out,\n",
    "                       # lightpath_shutter=lightpath_shutter,\n",
    "                       time=sync_lines['time']\n",
    "                       )\n",
    "\n",
    "# filter scope_pin to only include scope triggers of > 30 seconds\n",
    "# min_scope_pulse_len_in_seconds = 30\n",
    "# filt_scope_pin = utils2p.synchronization.epoch_length_filter(\n",
    "#         scope_pin,\n",
    "#         min_scope_pulse_len_in_seconds * target_Fs\n",
    "#         )\n"
   ],
   "id": "d2bb1671dac5fb63",
   "outputs": [],
   "execution_count": 17
  },
  {
   "metadata": {
    "ExecuteTime": {
     "end_time": "2025-05-28T23:04:57.905670Z",
     "start_time": "2025-05-28T23:04:57.904368Z"
    }
   },
   "cell_type": "code",
   "source": [
    "# Calculate frame_out edges\n",
    "\n",
    "# voltage_threshold = 0.4\n",
    "#\n",
    "# fo_ict = sync_lines['time'][utils2p.synchronization.edges(frame_out, size=voltage_threshold)]\n",
    "# fo_fct = sync_lines['time'][utils2p.synchronization.edges(frame_out, size=(-np.inf, -1 * voltage_threshold))]\n",
    "#\n",
    "# print(fo_ict.size)\n",
    "# print(fo_fct.size)"
   ],
   "id": "68cb811fa5008700",
   "outputs": [],
   "execution_count": 18
  },
  {
   "metadata": {},
   "cell_type": "markdown",
   "source": [
    "## Find rising and falling edges\n",
    "\n",
    "### Scope trigger\n",
    "The microscope acquisition trigger onset/offset times are determined from `scope_pin`.\n",
    "\n",
    "We compute `scope_ict`(\"initial cross time\", i.e. the time when scope_pin goes high) and `scope_fct` (\"final cross\n",
    "time\", i.e. the time when scope_pin goes low)."
   ],
   "id": "b70d0f32a7458cfc"
  },
  {
   "metadata": {
    "ExecuteTime": {
     "end_time": "2025-05-28T23:04:58.013959Z",
     "start_time": "2025-05-28T23:04:57.954306Z"
    }
   },
   "cell_type": "code",
   "source": [
    "# With utils2p, Find rising and falling edges in olf_disp_pin\n",
    "\n",
    "voltage_threshold = 0.8\n",
    "\n",
    "scope_ici, = utils2p.synchronization.edges(scope_pin, size=voltage_threshold)\n",
    "scope_fci, = utils2p.synchronization.edges(scope_pin, size=(-np.inf, -1 * voltage_threshold))\n",
    "\n",
    "scope_ict = sync_lines['time'][scope_ici]\n",
    "scope_fct = sync_lines['time'][scope_fci]"
   ],
   "id": "4fb64bcc76991f01",
   "outputs": [],
   "execution_count": 19
  },
  {
   "metadata": {
    "ExecuteTime": {
     "end_time": "2025-05-28T23:04:58.025560Z",
     "start_time": "2025-05-28T23:04:58.024472Z"
    }
   },
   "cell_type": "code",
   "source": "",
   "id": "380f0013ab87d65e",
   "outputs": [],
   "execution_count": null
  },
  {
   "metadata": {
    "ExecuteTime": {
     "end_time": "2025-05-28T23:04:58.078744Z",
     "start_time": "2025-05-28T23:04:58.075725Z"
    }
   },
   "cell_type": "code",
   "source": [
    "\n",
    "display('scope_ict')\n",
    "display(scope_ict)\n",
    "\n",
    "display('scope_fct')\n",
    "display(scope_fct)"
   ],
   "id": "abf636e9250e1fa1",
   "outputs": [
    {
     "data": {
      "text/plain": [
       "'scope_ict'"
      ]
     },
     "metadata": {},
     "output_type": "display_data"
    },
    {
     "data": {
      "text/plain": [
       "array([7.556])"
      ]
     },
     "metadata": {},
     "output_type": "display_data"
    },
    {
     "data": {
      "text/plain": [
       "'scope_fct'"
      ]
     },
     "metadata": {},
     "output_type": "display_data"
    },
    {
     "data": {
      "text/plain": [
       "array([1445.265])"
      ]
     },
     "metadata": {},
     "output_type": "display_data"
    }
   ],
   "execution_count": 20
  },
  {
   "metadata": {},
   "cell_type": "markdown",
   "source": "### Olfactometer pin",
   "id": "5334efaa48b5048f"
  },
  {
   "metadata": {
    "ExecuteTime": {
     "end_time": "2025-05-28T23:04:58.252909Z",
     "start_time": "2025-05-28T23:04:58.130963Z"
    }
   },
   "cell_type": "code",
   "source": [
    "\n",
    "### Find rising and falling edges in olf_disp_pin\n",
    "voltage_threshold = 0.8\n",
    "\n",
    "olf_ici = utils2p.synchronization.edges(olf_disp_pin, size=voltage_threshold)\n",
    "olf_fci = utils2p.synchronization.edges(olf_disp_pin, size=(-np.inf, -1 * voltage_threshold))\n",
    "\n",
    "olf_ict = sync_lines['time'][olf_ici]\n",
    "olf_fct = sync_lines['time'][olf_fci]"
   ],
   "id": "26fd128dc06b665f",
   "outputs": [],
   "execution_count": 21
  },
  {
   "metadata": {
    "ExecuteTime": {
     "end_time": "2025-05-28T23:04:58.271450Z",
     "start_time": "2025-05-28T23:04:58.269675Z"
    }
   },
   "cell_type": "code",
   "source": [
    "olf_ict = olf_ict[(olf_ict > scope_ict[0]) & (olf_ict < scope_fct[0])]\n",
    "olf_fct = olf_fct[(olf_fct > scope_ict[0]) & (olf_fct < scope_fct[0])]"
   ],
   "id": "1f0619d05eeca894",
   "outputs": [],
   "execution_count": 22
  },
  {
   "metadata": {
    "ExecuteTime": {
     "end_time": "2025-05-28T23:04:58.372062Z",
     "start_time": "2025-05-28T23:04:58.319891Z"
    }
   },
   "cell_type": "code",
   "source": [
    "# Alternatively, use scipy.signal.find_peaks\n",
    "peaks, peak_props = signal.find_peaks(olf_disp_pin,\n",
    "                                      height=0.5,\n",
    "                                      width=2 * target_Fs\n",
    "                                      )\n",
    "peak_olf_ict = sync_lines['time'][peak_props['left_ips'].round().astype('int')]\n",
    "peak_olf_fct = sync_lines['time'][peak_props['right_ips'].round().astype('int')]\n",
    "\n"
   ],
   "id": "fa7a555401e8f04f",
   "outputs": [],
   "execution_count": 23
  },
  {
   "metadata": {},
   "cell_type": "markdown",
   "source": "## Plot the processed lines and extracted onset/offset times",
   "id": "7f38b4cc78920dcf"
  },
  {
   "metadata": {},
   "cell_type": "markdown",
   "source": "",
   "id": "ab98767fc22537a0"
  },
  {
   "metadata": {
    "ExecuteTime": {
     "end_time": "2025-05-28T23:04:59.755942Z",
     "start_time": "2025-05-28T23:04:58.383777Z"
    }
   },
   "cell_type": "code",
   "source": [
    "%matplotlib inline\n",
    "plt.ion()\n",
    "fig, axarr = plt.subplots(4, 1, figsize=(11, 8.5),\n",
    "                          sharex=True, sharey=False)\n",
    "\n",
    "# scope pin\n",
    "axarr[0].plot(proc_sync_lines['time'], proc_sync_lines['scope_pin'], lw=1, color='k')\n",
    "axarr[0].set_title('scope_pin')\n",
    "# for ict, fct in zip(scope_ict, scope_fct):\n",
    "#     axarr[0].axvspan(ict, fct, alpha=0.5, zorder=0, )\n",
    "\n",
    "axarr[1].plot(proc_sync_lines['time'], proc_sync_lines['olf_disp_pin'], lw=0.5)\n",
    "axarr[1].set_title('olf_disp_pin')\n",
    "for ict, fct in zip(olf_ict, olf_fct):\n",
    "    axarr[1].axvspan(ict, fct, alpha=0.5, color='r', lw=0, zorder=0.5)\n",
    "\n",
    "\n",
    "ax = axarr[2]\n",
    "ax.plot(sync_lines['time'], sync_lines['frame_counter'], lw=1.0, color='k')\n",
    "ax.set_title('frame_counter')\n",
    "\n",
    "ax = axarr[3]\n",
    "ax.plot(sync_lines['time'], sync_lines['piezo_monitor'], lw=0.5, color='k')\n",
    "ax.set_title('piezo_monitor')\n",
    "\n",
    "for ax in axarr.flat:\n",
    "    for ict, fct in zip(scope_ict, scope_fct):\n",
    "        ax.axvspan(ict, fct, alpha=0.2, zorder=0, lw=0)\n",
    "\n",
    "plt.tight_layout()\n",
    "fig.canvas.draw()\n",
    "\n",
    "(proc_mov_dir / \"screenshots\").mkdir(exist_ok=True)\n",
    "fig.savefig(proc_mov_dir / \"screenshots/processed_sync_lines.png\", dpi=300)"
   ],
   "id": "6e2177f5f7489022",
   "outputs": [
    {
     "data": {
      "text/plain": [
       "<Figure size 1100x850 with 4 Axes>"
      ],
      "image/png": "[encoded data removed]"
     },
     "metadata": {},
     "output_type": "display_data"
    }
   ],
   "execution_count": 24
  },
  {
   "metadata": {},
   "cell_type": "markdown",
   "source": [
    "# Scope trigger\n",
    "The microscope acquisition trigger onset/offset times are determined from `scope_pin`.\n",
    "\n",
    "We compute `scope_ict`(\"initial cross time\", i.e. the time when scope_pin goes high) and `scope_fct` (\"final cross\n",
    "time\", i.e. the time when scope_pin goes low)."
   ],
   "id": "d07e45c2e5409f65"
  },
  {
   "metadata": {},
   "cell_type": "markdown",
   "source": [
    "Process ThorSync lines\n",
    "\n",
    "We want to extract frame timestamps and olfactometer onset/offset times.\n",
    "\n",
    "To extract frame timestamps, we need to use the following lines from ThorSync:\n",
    "- `frame_counter`: We use `frame_counter` increments as the time when a frame was acquired.\n",
    "- `scope_pin`: In stimulus-triggered mode, the microscope acquires images for as long as `scope_pin` is high. Once\n",
    "`scope_pin` is low, it will stop acquiring, but it often collects images for a small time window after.\n",
    "\n",
    "Note that the value of `frame_counter` usually doesn't match the frame number in the ThorImage `Experiment.xml` file.\n",
    "\n",
    "This is because `frame_counter` increments whenever the microscope acquires a new frame. Not all of these frames are\n",
    "saved to the .raw movie. We want to extract the timestamps of ONLY the frames that were saved to the .raw file.\n",
    "\n",
    "Therefore, we must filter the raw frame times computed from `frame_counter` to match the number of frames and\n",
    "timepoints\n",
    "in the ThorImage metadata.\n"
   ],
   "id": "efa45969313bcb6"
  },
  {
   "metadata": {
    "ExecuteTime": {
     "end_time": "2025-05-28T23:04:59.783879Z",
     "start_time": "2025-05-28T23:04:59.770058Z"
    }
   },
   "cell_type": "code",
   "source": [
    "# Load Thorimage settings\n",
    "with open(proc_mov_dir.joinpath('thorimage_settings.yaml'), 'r') as f:\n",
    "    thorimage_settings = yaml.safe_load(f)\n",
    "\n",
    "thorimage_settings['thorsync_name'] = thorsync_name\n",
    "\n",
    "thorimage_settings"
   ],
   "id": "c9682895dba90720",
   "outputs": [
    {
     "data": {
      "text/plain": [
       "{'raw_frame_rate': 4.128,\n",
       " 'frame_rate': 1.032,\n",
       " 'n_frames': 5932,\n",
       " 'n_timepoints': 1483,\n",
       " 'fast_z': True,\n",
       " 'n_z': 3,\n",
       " 'n_flyback_frames': 1,\n",
       " 'step_size_um': 7.0,\n",
       " 'average_mode': False,\n",
       " 'n_averaging': 1,\n",
       " 'steps_per_frame': 4,\n",
       " 'timelapse_trigger_mode': 0,\n",
       " 'streaming_trigger_mode': 4,\n",
       " 'stimulus_triggering': 1,\n",
       " 'software_version': '3.0.2016.10131',\n",
       " 'experiment_notes': '20250525_131507_stimuli.yaml',\n",
       " 'thorsync_name': 'SyncData002'}"
      ]
     },
     "execution_count": 25,
     "metadata": {},
     "output_type": "execute_result"
    }
   ],
   "execution_count": 25
  },
  {
   "metadata": {
    "ExecuteTime": {
     "end_time": "2025-05-28T23:04:59.824599Z",
     "start_time": "2025-05-28T23:04:59.821751Z"
    }
   },
   "cell_type": "code",
   "source": [
    "from rye2p.fix_frame_times import frames_by_scope_pulse\n",
    "\n",
    "scope_padding = 0.0\n",
    "# scope_padding = -1/thorimage_settings['raw_frame_rate']\n",
    "\n",
    "# Group the frames by scope trigger\n",
    "scope_fct_padded = scope_fct + scope_padding\n",
    "frame_times_by_pulse = frames_by_scope_pulse(raw_frame_times,\n",
    "                                             scope_ict,\n",
    "                                             scope_fct_padded\n",
    "                                             )\n",
    "\n",
    "if thorimage_settings['fast_z']:\n",
    "    expected_n_timepoints_by_scope_pulse = np.array(\n",
    "            [np.floor_divide(scope_frames.size, thorimage_settings['steps_per_frame'])\n",
    "             for scope_frames in frame_times_by_pulse]\n",
    "            )\n",
    "\n",
    "    expected_n_frames_by_scope_pulse = (expected_n_timepoints_by_scope_pulse\n",
    "                                        * thorimage_settings['steps_per_frame'])\n",
    "\n",
    "    expected_n_timepoints = np.sum(expected_n_timepoints_by_scope_pulse)\n",
    "    expected_n_frames = np.sum(expected_n_frames_by_scope_pulse)\n",
    "\n",
    "    correct_n_frames = (expected_n_frames == thorimage_settings['n_frames'])\n",
    "    correct_n_timepoints = (expected_n_timepoints == thorimage_settings['n_timepoints'])\n",
    "    # %%\n",
    "    print(\n",
    "            f\"\\nCorrect # of frames: {correct_n_frames}\"\n",
    "            f\"\\nCorrect # of timepoints: {correct_n_timepoints}\"\n",
    "\n",
    "            f\"\\n\\nExpected from filtering:\"\n",
    "            f\"\\n\\tn_frames: {expected_n_frames}\"\n",
    "            f\"\\n\\tn_timepoints: {expected_n_timepoints}\"\n",
    "\n",
    "            f\"\\n\\nThorImage:\"\n",
    "            f\"\\n\\tn_frames: {thorimage_settings['n_frames']}\"\n",
    "            f\"\\n\\tn_timepoints: {thorimage_settings['n_timepoints']}\\n\\n\"\n",
    "            )\n",
    "elif thorimage_settings['steps_per_frame'] == 1:\n",
    "    # single plane without fame averaging\n",
    "    expected_n_frames = np.concatenate(frame_times_by_pulse).size\n",
    "\n",
    "    print(\n",
    "            f\"\\nThorImage:\"\n",
    "            f\"\\n\\tn_frames: {thorimage_settings['n_frames']}\"\n",
    "            f\"\\n\\tn_timepoints: {thorimage_settings['n_timepoints']}\\n\\n\"\n",
    "\n",
    "            f\"\\n\\nExpected from filtering:\"\n",
    "            f\"\\n\\tn_frames: {expected_n_frames}\"\n",
    "            f\"\\n\\tn_timepoints: {expected_n_frames}\"\n",
    "\n",
    "            )\n"
   ],
   "id": "ae8dc6bf2bdb45ff",
   "outputs": [
    {
     "name": "stdout",
     "output_type": "stream",
     "text": [
      "\n",
      "Correct # of frames: True\n",
      "Correct # of timepoints: True\n",
      "\n",
      "Expected from filtering:\n",
      "\tn_frames: 5932\n",
      "\tn_timepoints: 1483\n",
      "\n",
      "ThorImage:\n",
      "\tn_frames: 5932\n",
      "\tn_timepoints: 1483\n",
      "\n",
      "\n"
     ]
    }
   ],
   "execution_count": 26
  },
  {
   "metadata": {
    "ExecuteTime": {
     "end_time": "2025-05-28T23:04:59.877795Z",
     "start_time": "2025-05-28T23:04:59.874624Z"
    }
   },
   "cell_type": "code",
   "source": [
    "\n",
    "if expected_n_frames == thorimage_settings['n_frames']:\n",
    "    if thorimage_settings['fast_z']:\n",
    "        filtered_frame_times_by_pulse = []\n",
    "        filtered_stack_times_by_pulse = []\n",
    "\n",
    "        for scope_frames, n_scope_frames in zip(frame_times_by_pulse,\n",
    "                                                expected_n_frames_by_scope_pulse):\n",
    "            filtered_scope_frames = scope_frames[:n_scope_frames]\n",
    "\n",
    "            filtered_frame_times_by_pulse.append(filtered_scope_frames)\n",
    "            filtered_stack_times_by_pulse.append(\n",
    "                    filtered_scope_frames[::thorimage_settings['steps_per_frame']])\n",
    "\n",
    "        frame_times = np.concatenate(filtered_frame_times_by_pulse)\n",
    "        stack_times = np.concatenate(filtered_stack_times_by_pulse)\n",
    "\n",
    "        timestamps = dict(\n",
    "                frame_times=frame_times,\n",
    "                stack_times=stack_times,\n",
    "                scope_ict=scope_ict,\n",
    "                scope_fct=scope_fct,\n",
    "                olf_ict=olf_ict,\n",
    "                olf_fct=olf_fct,\n",
    "                )\n",
    "        pp.pprint(timestamps, indent=4)\n",
    "    elif thorimage_settings['steps_per_frame'] == 1:\n",
    "        # single plane, no frame averaging\n",
    "        frame_times = np.concatenate(frame_times_by_pulse)\n",
    "        stack_times = frame_times\n",
    "\n",
    "        timestamps = dict(\n",
    "                frame_times=frame_times,\n",
    "                stack_times=stack_times,\n",
    "                scope_ict=scope_ict,\n",
    "                scope_fct=scope_fct,\n",
    "                olf_ict=olf_ict,\n",
    "                olf_fct=olf_fct,\n",
    "                )\n",
    "        pp.pprint(timestamps, indent=4)"
   ],
   "id": "7401f7132a073c30",
   "outputs": [
    {
     "name": "stdout",
     "output_type": "stream",
     "text": [
      "{   'frame_times': array([   7.612,    7.854,    8.097, ..., 1444.076, 1444.319, 1444.561]),\n",
      "    'olf_fct': array([  17.481,   57.419,   97.357,  137.295,  177.233,  217.171,\n",
      "        257.109,  297.047,  336.985,  376.923,  416.861,  456.799,\n",
      "        496.737,  536.675,  576.613,  616.552,  656.49 ,  696.428,\n",
      "        736.366,  776.304,  816.242,  856.18 ,  896.118,  936.056,\n",
      "        975.994, 1015.932, 1055.87 , 1095.808, 1135.746, 1175.684,\n",
      "       1215.622, 1255.56 , 1295.498, 1335.436, 1375.374, 1415.312]),\n",
      "    'olf_ict': array([  14.484,   54.422,   94.36 ,  134.298,  174.236,  214.174,\n",
      "        254.112,  294.05 ,  333.988,  373.926,  413.864,  453.803,\n",
      "        493.741,  533.679,  573.617,  613.555,  653.493,  693.431,\n",
      "        733.369,  773.307,  813.245,  853.183,  893.121,  933.059,\n",
      "        972.997, 1012.935, 1052.873, 1092.811, 1132.749, 1172.687,\n",
      "       1212.625, 1252.563, 1292.501, 1332.439, 1372.377, 1412.315]),\n",
      "    'scope_fct': array([1445.265]),\n",
      "    'scope_ict': array([7.556]),\n",
      "    'stack_times': array([   7.612,    8.581,    9.55 , ..., 1441.896, 1442.865, 1443.834])}\n"
     ]
    }
   ],
   "execution_count": 27
  },
  {
   "metadata": {},
   "cell_type": "markdown",
   "source": [
    "# Final check\n",
    "Check that everything (# of frames, timepoints) is compatible with ThorImage metadata."
   ],
   "id": "5306a80b20cf4762"
  },
  {
   "metadata": {
    "ExecuteTime": {
     "end_time": "2025-05-28T23:04:59.930819Z",
     "start_time": "2025-05-28T23:04:59.928819Z"
    }
   },
   "cell_type": "code",
   "source": [
    "import pprint as pp\n",
    "\n",
    "pp.pprint(thorimage_settings, sort_dicts=False)\n",
    "\n",
    "print('\\nTimestamps info:')\n",
    "print('-----------------')\n",
    "for k, v in timestamps.items():\n",
    "    print(f\"{k}: {v.size}\")\n",
    "\n",
    "stack_frame_compat = np.all(stack_times == frame_times[::thorimage_settings['steps_per_frame']])\n",
    "print(f'frame_time compatible with stack_time: {stack_frame_compat}')"
   ],
   "id": "a75317ccefd3611c",
   "outputs": [
    {
     "name": "stdout",
     "output_type": "stream",
     "text": [
      "{'raw_frame_rate': 4.128,\n",
      " 'frame_rate': 1.032,\n",
      " 'n_frames': 5932,\n",
      " 'n_timepoints': 1483,\n",
      " 'fast_z': True,\n",
      " 'n_z': 3,\n",
      " 'n_flyback_frames': 1,\n",
      " 'step_size_um': 7.0,\n",
      " 'average_mode': False,\n",
      " 'n_averaging': 1,\n",
      " 'steps_per_frame': 4,\n",
      " 'timelapse_trigger_mode': 0,\n",
      " 'streaming_trigger_mode': 4,\n",
      " 'stimulus_triggering': 1,\n",
      " 'software_version': '3.0.2016.10131',\n",
      " 'experiment_notes': '20250525_131507_stimuli.yaml',\n",
      " 'thorsync_name': 'SyncData002'}\n",
      "\n",
      "Timestamps info:\n",
      "-----------------\n",
      "frame_times: 5932\n",
      "stack_times: 1483\n",
      "scope_ict: 1\n",
      "scope_fct: 1\n",
      "olf_ict: 36\n",
      "olf_fct: 36\n",
      "frame_time compatible with stack_time: True\n"
     ]
    }
   ],
   "execution_count": 28
  },
  {
   "metadata": {
    "ExecuteTime": {
     "end_time": "2025-05-28T23:05:00.029889Z",
     "start_time": "2025-05-28T23:04:59.984650Z"
    }
   },
   "cell_type": "code",
   "source": "np.save(proc_mov_dir.joinpath('timestamps.npy'), timestamps)\n",
   "id": "20d62c2e6425ee02",
   "outputs": [],
   "execution_count": 29
  },
  {
   "metadata": {},
   "cell_type": "markdown",
   "source": [
    "# Edit timestamps if necessary\n",
    "\n",
    "i.e. ThorSync stopped early"
   ],
   "id": "a1bac3d1be8015ae"
  },
  {
   "metadata": {
    "ExecuteTime": {
     "end_time": "2025-05-28T23:05:00.293574Z",
     "start_time": "2025-05-28T23:05:00.046634Z"
    }
   },
   "cell_type": "code",
   "source": [
    "timestamps0 = np.load(proc_mov_dir.joinpath('timestamps0.npy'), allow_pickle=True).item()\n",
    "timestamps0"
   ],
   "id": "437e7471cdac47e1",
   "outputs": [
    {
     "ename": "FileNotFoundError",
     "evalue": "[Errno 2] No such file or directory: '/local/tensor/Ruoyi/ruoyi_rotation_project/processed_data/2025-05-25/2/IaA_Bnn/timestamps0.npy'",
     "output_type": "error",
     "traceback": [
      "\u001B[0;31m---------------------------------------------------------------------------\u001B[0m",
      "\u001B[0;31mFileNotFoundError\u001B[0m                         Traceback (most recent call last)",
      "Cell \u001B[0;32mIn[30], line 1\u001B[0m\n\u001B[0;32m----> 1\u001B[0m timestamps0 \u001B[38;5;241m=\u001B[39m np\u001B[38;5;241m.\u001B[39mload(proc_mov_dir\u001B[38;5;241m.\u001B[39mjoinpath(\u001B[38;5;124m'\u001B[39m\u001B[38;5;124mtimestamps0.npy\u001B[39m\u001B[38;5;124m'\u001B[39m), allow_pickle\u001B[38;5;241m=\u001B[39m\u001B[38;5;28;01mTrue\u001B[39;00m)\u001B[38;5;241m.\u001B[39mitem()\n\u001B[1;32m      2\u001B[0m timestamps0\n",
      "File \u001B[0;32m~/miniconda3/envs/twoppp311/lib/python3.11/site-packages/numpy/lib/npyio.py:405\u001B[0m, in \u001B[0;36mload\u001B[0;34m(file, mmap_mode, allow_pickle, fix_imports, encoding, max_header_size)\u001B[0m\n\u001B[1;32m    403\u001B[0m     own_fid \u001B[38;5;241m=\u001B[39m \u001B[38;5;28;01mFalse\u001B[39;00m\n\u001B[1;32m    404\u001B[0m \u001B[38;5;28;01melse\u001B[39;00m:\n\u001B[0;32m--> 405\u001B[0m     fid \u001B[38;5;241m=\u001B[39m stack\u001B[38;5;241m.\u001B[39menter_context(\u001B[38;5;28mopen\u001B[39m(os_fspath(file), \u001B[38;5;124m\"\u001B[39m\u001B[38;5;124mrb\u001B[39m\u001B[38;5;124m\"\u001B[39m))\n\u001B[1;32m    406\u001B[0m     own_fid \u001B[38;5;241m=\u001B[39m \u001B[38;5;28;01mTrue\u001B[39;00m\n\u001B[1;32m    408\u001B[0m \u001B[38;5;66;03m# Code to distinguish from NumPy binary files and pickles.\u001B[39;00m\n",
      "\u001B[0;31mFileNotFoundError\u001B[0m: [Errno 2] No such file or directory: '/local/tensor/Ruoyi/ruoyi_rotation_project/processed_data/2025-05-25/2/IaA_Bnn/timestamps0.npy'"
     ]
    }
   ],
   "execution_count": 30
  },
  {
   "metadata": {
    "ExecuteTime": {
     "end_time": "2025-05-28T23:05:00.296868869Z",
     "start_time": "2025-05-22T23:41:47.932730Z"
    }
   },
   "cell_type": "code",
   "source": "# thorimage_settings",
   "id": "509cffda1bacfeaf",
   "outputs": [],
   "execution_count": 31
  },
  {
   "metadata": {
    "ExecuteTime": {
     "end_time": "2025-05-28T23:05:00.297140886Z",
     "start_time": "2025-05-23T22:00:31.008059Z"
    }
   },
   "cell_type": "code",
   "source": [
    "n_observed_timepoints = timestamps0['stack_times'].size\n",
    "n_missing_timepoints = thorimage_settings['n_timepoints'] - n_observed_timepoints\n",
    "print(f\"n_observed_timepoints: {n_observed_timepoints}\")\n",
    "print(f\"n_missing_timepoints: {n_missing_timepoints}\")\n",
    "\n",
    "n_observed_olf = timestamps0['olf_ict'].size\n",
    "n_missing_olf = 36 - timestamps0['olf_ict'].size\n",
    "\n",
    "print(f\"\\nn_observed_olf: {n_observed_olf}\")\n",
    "print(f\"n_missing_olf: {n_missing_olf}\")"
   ],
   "id": "4cab2a9dec267d81",
   "outputs": [
    {
     "name": "stdout",
     "output_type": "stream",
     "text": [
      "n_observed_timepoints: 1475\n",
      "n_missing_timepoints: 8\n",
      "\n",
      "n_observed_olf: 36\n",
      "n_missing_olf: 0\n"
     ]
    }
   ],
   "execution_count": 39
  },
  {
   "metadata": {
    "ExecuteTime": {
     "end_time": "2025-05-28T23:05:00.297311342Z",
     "start_time": "2025-05-23T22:00:48.557613Z"
    }
   },
   "cell_type": "code",
   "source": [
    "# stack time diff\n",
    "stack_time_diffs = np.diff(stack_times)\n",
    "stack_time_diff = stack_time_diffs.mean()\n",
    "#\n",
    "# # ITI between odors\n",
    "# olf_ict_diffs = np.diff(olf_ict)\n",
    "# olf_ict_diff = olf_ict_diffs.mean()\n",
    "#\n",
    "# # odor pulse length\n",
    "# olf_pulse_lens = olf_fct - olf_ict\n",
    "# olf_pulse_len = olf_pulse_lens.mean()"
   ],
   "id": "58d743bbb1b3c27f",
   "outputs": [],
   "execution_count": 40
  },
  {
   "metadata": {
    "ExecuteTime": {
     "end_time": "2025-05-28T23:05:00.298657888Z",
     "start_time": "2025-05-22T23:41:48.137522Z"
    }
   },
   "cell_type": "code",
   "source": [
    "# import copy\n",
    "#\n",
    "# timestamps = copy.deepcopy(timestamps)"
   ],
   "id": "758ec7254348cf8b",
   "outputs": [],
   "execution_count": 34
  },
  {
   "metadata": {
    "ExecuteTime": {
     "end_time": "2025-05-28T23:05:00.298895042Z",
     "start_time": "2025-05-23T22:01:05.817342Z"
    }
   },
   "cell_type": "code",
   "source": [
    "# # fix stack_times\n",
    "stack_times_to_append = (timestamps0['stack_times'][-1] +\n",
    "                         (np.arange(n_missing_timepoints) + 1) * stack_time_diff\n",
    "                         )\n",
    "fixed_stack_times = np.concatenate((timestamps0['stack_times'], stack_times_to_append))\n",
    "timestamps['stack_times'] = fixed_stack_times"
   ],
   "id": "35ed084c02f0beca",
   "outputs": [],
   "execution_count": 41
  },
  {
   "metadata": {
    "ExecuteTime": {
     "end_time": "2025-05-28T23:05:00.299841538Z",
     "start_time": "2025-05-22T23:41:48.259774Z"
    }
   },
   "cell_type": "code",
   "source": [
    "# # Fix olfactometer pulses\n",
    "# olf_ict_to_append = (timestamps0['olf_ict'][-1] +\n",
    "#                      (np.arange(n_missing_olf) + 1) * olf_ict_diff\n",
    "#                      )\n",
    "# fixed_olf_ict = np.concatenate((timestamps0['olf_ict'], olf_ict_to_append))\n",
    "#\n",
    "# olf_fct_to_append = olf_ict_to_append + olf_pulse_len\n",
    "# fixed_olf_fct = np.concatenate((timestamps0['olf_fct'], olf_fct_to_append))\n",
    "#\n",
    "# timestamps['olf_ict'] = fixed_olf_ict\n",
    "# timestamps['olf_fct'] = fixed_olf_fct"
   ],
   "id": "182640f9cadd9dbf",
   "outputs": [],
   "execution_count": 36
  },
  {
   "metadata": {
    "ExecuteTime": {
     "end_time": "2025-05-28T23:05:00.300674753Z",
     "start_time": "2025-05-23T22:02:22.812543Z"
    }
   },
   "cell_type": "code",
   "source": "np.save(proc_mov_dir.joinpath('timestamps.npy'), timestamps)",
   "id": "fb5be939893c45dd",
   "outputs": [],
   "execution_count": 42
  },
  {
   "metadata": {},
   "cell_type": "code",
   "outputs": [],
   "execution_count": null,
   "source": "",
   "id": "bda4979594e2b799"
  },
  {
   "metadata": {
    "ExecuteTime": {
     "end_time": "2025-05-28T23:05:00.302209935Z",
     "start_time": "2025-05-23T21:59:56.308404Z"
    }
   },
   "cell_type": "code",
   "source": [
    "if thorimage_settings['fast_z']:\n",
    "    filtered_frame_times_by_pulse = []\n",
    "    filtered_stack_times_by_pulse = []\n",
    "\n",
    "    for scope_frames, n_scope_frames in zip(frame_times_by_pulse,\n",
    "                                            expected_n_frames_by_scope_pulse):\n",
    "        filtered_scope_frames = scope_frames[:n_scope_frames]\n",
    "\n",
    "        filtered_frame_times_by_pulse.append(filtered_scope_frames)\n",
    "        filtered_stack_times_by_pulse.append(\n",
    "                filtered_scope_frames[::thorimage_settings['steps_per_frame']])\n",
    "\n",
    "    frame_times = np.concatenate(filtered_frame_times_by_pulse)\n",
    "    stack_times = np.concatenate(filtered_stack_times_by_pulse)\n",
    "\n",
    "    timestamps = dict(\n",
    "            frame_times=frame_times,\n",
    "            stack_times=stack_times,\n",
    "            scope_ict=scope_ict,\n",
    "            scope_fct=scope_fct,\n",
    "            olf_ict=olf_ict,\n",
    "            olf_fct=olf_fct,\n",
    "            )\n",
    "    pp.pprint(timestamps, indent=4)\n",
    "\n",
    "    np.save(proc_mov_dir.joinpath('timestamps0.npy'), timestamps)\n"
   ],
   "id": "879f94f579ee71ed",
   "outputs": [
    {
     "name": "stdout",
     "output_type": "stream",
     "text": [
      "{   'frame_times': array([  11.09 ,   11.332,   11.574, ..., 1439.801, 1440.043, 1440.285]),\n",
      "    'olf_fct': array([  20.952,   60.889,  100.826,  140.763,  180.7  ,  220.637,\n",
      "        260.574,  300.511,  340.448,  380.385,  420.322,  460.259,\n",
      "        500.196,  540.133,  580.07 ,  620.007,  659.945,  699.882,\n",
      "        739.819,  779.756,  819.693,  859.63 ,  899.567,  939.504,\n",
      "        979.441, 1019.378, 1059.315, 1099.252, 1139.189, 1179.126,\n",
      "       1219.063, 1259.   , 1298.937, 1338.874, 1378.811, 1418.748]),\n",
      "    'olf_ict': array([  17.955,   57.892,   97.829,  137.766,  177.703,  217.64 ,\n",
      "        257.577,  297.514,  337.451,  377.388,  417.326,  457.263,\n",
      "        497.2  ,  537.137,  577.074,  617.011,  656.948,  696.885,\n",
      "        736.822,  776.759,  816.696,  856.633,  896.57 ,  936.507,\n",
      "        976.444, 1016.381, 1056.318, 1096.255, 1136.192, 1176.129,\n",
      "       1216.066, 1256.003, 1295.94 , 1335.877, 1375.814, 1415.751]),\n",
      "    'scope_fct': array([1448.03450388]),\n",
      "    'scope_ict': array([11.019]),\n",
      "    'stack_times': array([  11.09 ,   12.059,   13.028, ..., 1437.62 , 1438.589, 1439.558])}\n"
     ]
    }
   ],
   "execution_count": 35
  },
  {
   "metadata": {},
   "cell_type": "code",
   "outputs": [],
   "execution_count": null,
   "source": "",
   "id": "bf0b8cb9049f0114"
  }
 ],
 "metadata": {
  "kernelspec": {
   "display_name": "Python 3",
   "language": "python",
   "name": "python3"
  },
  "language_info": {
   "codemirror_mode": {
    "name": "ipython",
    "version": 2
   },
   "file_extension": ".py",
   "mimetype": "text/x-python",
   "name": "python",
   "nbconvert_exporter": "python",
   "pygments_lexer": "ipython2",
   "version": "2.7.6"
  }
 },
 "nbformat": 4,
 "nbformat_minor": 5
}
