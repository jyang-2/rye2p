{
 "cells": [
  {
   "cell_type": "code",
   "id": "initial_id",
   "metadata": {
    "collapsed": true,
    "ExecuteTime": {
     "end_time": "2025-10-17T17:18:33.527085Z",
     "start_time": "2025-10-17T17:18:33.069447Z"
    }
   },
   "source": [
    "from tqdm.notebook import tqdm\n",
    "import shutil\n",
    "import utils2p\n",
    "import yaml\n",
    "from pathlib import Path\n",
    "from rye2p.thorimage.settings import FunctionalImagingSettings\n",
    "\n",
    "# set upstairs or downstairs microscope\n",
    "microscope = 'downstairs-2p'\n",
    "\n",
    "# set project directory paths\n",
    "# PRJ_DATA_DIR = Path(\"/local/tensor/Haoru/rotation_project\")\n",
    "# RAW_DATA_DIR = Path(\"/local/tensor/Haoru/rotation_project/raw_data\")\n",
    "# NAS_PROC_DIR = Path(\"/local/tensor/Haoru/rotation_project/processed_data\")\n",
    "\n",
    "# PRJ_DATA_DIR = Path(\"/local/tensor/Ruoyi/ruoyi_rotation_project\")\n",
    "# RAW_DATA_DIR = Path(\"/local/tensor/Ruoyi/ruoyi_rotation_project/raw_data\")\n",
    "# NAS_PROC_DIR = Path(\"/local/tensor/Ruoyi/ruoyi_rotation_project/processed_data\")\n",
    "\n",
    "PRJ_DATA_DIR = Path(\"/local/tensor/Ruoyi/ruoyi_mbc1_project\")\n",
    "RAW_DATA_DIR = PRJ_DATA_DIR / \"raw_data\"\n",
    "NAS_PROC_DIR = PRJ_DATA_DIR / \"processed_data\"\n"
   ],
   "outputs": [],
   "execution_count": 1
  },
  {
   "metadata": {},
   "cell_type": "markdown",
   "source": "# Batch preprocess all ThorImage files from one imaging day",
   "id": "c30134233ea7e099"
  },
  {
   "metadata": {
    "ExecuteTime": {
     "end_time": "2025-10-17T17:18:38.843617Z",
     "start_time": "2025-10-17T17:18:38.839993Z"
    }
   },
   "cell_type": "code",
   "source": [
    "def validate_thorimage_folder(thorimage_folder):\n",
    "    if not thorimage_folder.joinpath(\"Experiment.xml\").is_file():\n",
    "        raise FileNotFoundError(f\"Experiment.xml file not found.\")\n",
    "\n",
    "    if not thorimage_folder.joinpath(\"Image_0001_0001.raw\").is_file():\n",
    "        raise FileNotFoundError(f\".raw movie file not found.\")\n",
    "\n",
    "\n",
    "def preprocess_thorimage(raw_mov_dir, proc_mov_dir, thorsync_name=None,\n",
    "                         copy_xml=True,\n",
    "                         save_settings=True,\n",
    "                         save_single_tiff=True,\n",
    "                         save_tiff_sequence=True,\n",
    "                         frames_per_batch=500):\n",
    "    \"\"\"Copy metadata and save movies as .tiff files\"\"\"\n",
    "\n",
    "    validate_thorimage_folder(raw_mov_dir)\n",
    "    proc_mov_dir.mkdir(parents=True, exist_ok=True)\n",
    "\n",
    "    save_tiffs = save_single_tiff or save_tiff_sequence\n",
    "\n",
    "    if copy_xml:\n",
    "        shutil.copy(raw_mov_dir.joinpath(\"Experiment.xml\"),\n",
    "                    proc_mov_dir.joinpath(\"Experiment.xml\"))\n",
    "\n",
    "    if save_settings:\n",
    "        thorimage_settings = FunctionalImagingSettings.from_xml(\n",
    "                proc_mov_dir.joinpath(\"Experiment.xml\")\n",
    "                )\n",
    "        if thorsync_name is not None:\n",
    "            thorimage_settings.thorsync_name = thorsync_name\n",
    "\n",
    "        # Save ThorImage settings to proc_mov_dir\n",
    "        with open(proc_mov_dir.joinpath('thorimage_settings.yaml'), 'w') as f:\n",
    "            yaml.dump(thorimage_settings.to_dict(), f, sort_keys=False)\n",
    "\n",
    "    if save_tiffs:\n",
    "        print('save tiffs')\n",
    "        meta = utils2p.Metadata(raw_mov_dir.joinpath(\"Experiment.xml\"))\n",
    "        raw_file = raw_mov_dir.joinpath(\"Image_0001_0001.raw\")\n",
    "\n",
    "        stack1, = utils2p.load_raw(raw_file, meta)\n",
    "        # stack1, stack2 = utils2p.load_raw(raw_file, meta)\n",
    "        tiff_file = proc_mov_dir.joinpath(raw_file.name).with_suffix('.tif')\n",
    "        utils2p.save_img(tiff_file, stack1)\n",
    "        # utils2p.save_img(proc_mov_dir.joinpath(\"Image_0001_0001_ChanB.tif\"), stack2)\n",
    "\n",
    "        if save_tiff_sequence:\n",
    "            stk_dir = proc_mov_dir.joinpath('stk')\n",
    "            stk_dir.mkdir(parents=True, exist_ok=True)\n",
    "\n",
    "            batch_gen = utils2p.load_stack_batches(tiff_file, frames_per_batch)\n",
    "\n",
    "            for i, batch in enumerate(batch_gen):\n",
    "                save_name = stk_dir.joinpath(f\"stk_{i:03d}.tif\")\n",
    "                utils2p.save_img(save_name, batch)\n",
    "\n",
    "    return proc_mov_dir"
   ],
   "id": "64f24d9bb6d788e4",
   "outputs": [],
   "execution_count": 2
  },
  {
   "metadata": {
    "ExecuteTime": {
     "end_time": "2025-10-17T17:19:18.614346Z",
     "start_time": "2025-10-17T17:18:48.867668Z"
    }
   },
   "cell_type": "code",
   "source": [
    "date_imaged = '2025-10-13'\n",
    "\n",
    "# get list of all .raw files in the imaging folder\n",
    "raw_files = sorted(list(RAW_DATA_DIR.joinpath(date_imaged).rglob(\"Image*.raw\")))\n",
    "\n",
    "# get list of all thorimage folders in the raw data\n",
    "raw_thorimage_folders = [item.parent for item in raw_files]\n",
    "\n",
    "for raw_dir in tqdm(raw_thorimage_folders):\n",
    "    proc_dir = NAS_PROC_DIR.joinpath(raw_dir.relative_to(RAW_DATA_DIR))\n",
    "    preprocess_thorimage(raw_dir, proc_dir)\n",
    "\n"
   ],
   "id": "8c783f460104a5d6",
   "outputs": [
    {
     "data": {
      "text/plain": [
       "  0%|          | 0/2 [00:00<?, ?it/s]"
      ],
      "application/vnd.jupyter.widget-view+json": {
       "version_major": 2,
       "version_minor": 0,
       "model_id": "52b5fea34171424780dd69a725ea0ce5"
      }
     },
     "metadata": {},
     "output_type": "display_data"
    },
    {
     "name": "stdout",
     "output_type": "stream",
     "text": [
      "save tiffs\n",
      "save tiffs\n"
     ]
    }
   ],
   "execution_count": 3
  }
 ],
 "metadata": {
  "kernelspec": {
   "display_name": "Python 3",
   "language": "python",
   "name": "python3"
  },
  "language_info": {
   "codemirror_mode": {
    "name": "ipython",
    "version": 2
   },
   "file_extension": ".py",
   "mimetype": "text/x-python",
   "name": "python",
   "nbconvert_exporter": "python",
   "pygments_lexer": "ipython2",
   "version": "2.7.6"
  }
 },
 "nbformat": 4,
 "nbformat_minor": 5
}
