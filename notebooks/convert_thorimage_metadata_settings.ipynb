{
 "cells": [
  {
   "cell_type": "code",
   "id": "initial_id",
   "metadata": {
    "collapsed": true,
    "ExecuteTime": {
     "end_time": "2025-02-27T23:52:50.667206Z",
     "start_time": "2025-02-27T23:52:50.511142Z"
    }
   },
   "source": [
    "from pathlib import Path\n",
    "from tqdm.notebook import tqdm\n",
    "import shutil\n",
    "import utils2p\n",
    "import yaml\n",
    "import numpy as np\n",
    "\n",
    "from rye2p.thorimage.settings import FunctionalImagingSettings\n",
    "\n",
    "# set upstairs or downstairs microscope\n",
    "microscope = 'downstairs-2p'\n",
    "\n",
    "prj = 'natural_mixtures'\n",
    "# set project directory paths\n",
    "if prj == 'natural_mixtures':\n",
    "    PRJ_DATA_DIR = Path(\"/local/matrix/Remy-Data/projects/natural_mixtures\")\n",
    "    RAW_DATA_DIR = Path(\"/local/tensor-archive/Remy/natural_mixtures/raw_data\")\n",
    "    NAS_PROC_DIR = PRJ_DATA_DIR.joinpath('processed_data')\n",
    "elif prj == 'haoru_rotation':\n",
    "    PRJ_DATA_DIR = Path(\"/local/tensor/Haoru/rotation_project\")\n",
    "    RAW_DATA_DIR = Path(\"/local/tensor/Haoru/rotation_project/raw_data\")\n",
    "    NAS_PROC_DIR = Path(\"/local/tensor/Haoru/rotation_project/processed_data\")"
   ],
   "outputs": [],
   "execution_count": 1
  },
  {
   "metadata": {
    "ExecuteTime": {
     "end_time": "2025-02-27T23:52:50.839579Z",
     "start_time": "2025-02-27T23:52:50.673072Z"
    }
   },
   "cell_type": "code",
   "source": [
    "folder = Path(\"/local/matrix/Remy-Data/projects/natural_mixtures/processed_data/2022-02-11\")\n",
    "\n",
    "meta_files = sorted(list(folder.rglob(\"kiwi_ea_eb_only/Experiment.xml\")))\n",
    "meta_files"
   ],
   "id": "7074843b76863b44",
   "outputs": [
    {
     "data": {
      "text/plain": [
       "[PosixPath('/local/matrix/Remy-Data/projects/natural_mixtures/processed_data/2022-02-11/1/kiwi_ea_eb_only/Experiment.xml'),\n",
       " PosixPath('/local/matrix/Remy-Data/projects/natural_mixtures/processed_data/2022-02-11/2/kiwi_ea_eb_only/Experiment.xml'),\n",
       " PosixPath('/local/matrix/Remy-Data/projects/natural_mixtures/processed_data/2022-02-11/3/kiwi_ea_eb_only/Experiment.xml')]"
      ]
     },
     "execution_count": 2,
     "metadata": {},
     "output_type": "execute_result"
    }
   ],
   "execution_count": 2
  },
  {
   "metadata": {
    "ExecuteTime": {
     "end_time": "2025-02-27T23:52:51.498116Z",
     "start_time": "2025-02-27T23:52:51.415058Z"
    }
   },
   "cell_type": "code",
   "source": [
    "for meta_file in meta_files:\n",
    "    thorimage_settings = FunctionalImagingSettings.from_xml(meta_file)\n",
    "\n",
    "    # Save ThorImage settings to proc_mov_dir\n",
    "    thorimage_settings.to_yaml(meta_file.with_name('thorimage_settings.yaml'))"
   ],
   "id": "4c8dadd38920ce7a",
   "outputs": [],
   "execution_count": 3
  },
  {
   "metadata": {
    "ExecuteTime": {
     "end_time": "2025-02-27T23:52:51.969101Z",
     "start_time": "2025-02-27T23:52:51.965826Z"
    }
   },
   "cell_type": "code",
   "source": "",
   "id": "21b7c43a5e280650",
   "outputs": [],
   "execution_count": null
  },
  {
   "metadata": {
    "ExecuteTime": {
     "end_time": "2025-02-27T23:52:52.385329Z",
     "start_time": "2025-02-27T23:52:52.374194Z"
    }
   },
   "cell_type": "code",
   "source": [
    "ts_file = Path(\"/local/tensor/Remy/natural_mixtures/processed_data/2022-02-11/1/kiwi_ea_eb_only/timestamps.npy\")\n",
    "timestamps = np.load(ts_file, allow_pickle=True).item()\n",
    "\n",
    "thorimage_settings = FunctionalImagingSettings.from_yaml(ts_file.with_name('thorimage_settings.yaml'))\n"
   ],
   "id": "644e2db1b111ba23",
   "outputs": [],
   "execution_count": 4
  },
  {
   "metadata": {
    "ExecuteTime": {
     "end_time": "2025-02-27T23:52:54.289249Z",
     "start_time": "2025-02-27T23:52:54.284275Z"
    }
   },
   "cell_type": "code",
   "source": "thorimage_settings = thorimage_settings.to_dict()",
   "id": "53702e3fa7555920",
   "outputs": [],
   "execution_count": 5
  },
  {
   "metadata": {
    "ExecuteTime": {
     "end_time": "2025-02-27T23:52:54.639979Z",
     "start_time": "2025-02-27T23:52:54.630227Z"
    }
   },
   "cell_type": "code",
   "source": [
    "for k, v in timestamps.items():\n",
    "    print(f\"{k}: {v.size}\")\n",
    "\n",
    "display(timestamps['scope_ict'])\n",
    "display(timestamps['scope_fct'])\n"
   ],
   "id": "c358c9727754eb39",
   "outputs": [
    {
     "name": "stdout",
     "output_type": "stream",
     "text": [
      "frame_times: 101421\n",
      "stack_times: 1690\n",
      "olf_ict: 57\n",
      "olf_fct: 58\n",
      "scope_ict: 1\n",
      "scope_fct: 1\n"
     ]
    },
    {
     "data": {
      "text/plain": [
       "array([17.1])"
      ]
     },
     "metadata": {},
     "output_type": "display_data"
    },
    {
     "data": {
      "text/plain": [
       "array([17.1])"
      ]
     },
     "metadata": {},
     "output_type": "display_data"
    }
   ],
   "execution_count": 6
  },
  {
   "metadata": {
    "ExecuteTime": {
     "end_time": "2025-02-27T23:04:23.476882Z",
     "start_time": "2025-02-27T23:04:23.472534Z"
    }
   },
   "cell_type": "code",
   "source": [
    "scope_fct = timestamps['scope_fct']\n",
    "scope_ict = timestamps['scope_ict']\n",
    "\n",
    "raw_frame_times = timestamps['frame_times']"
   ],
   "id": "d8a70881d7865ac7",
   "outputs": [],
   "execution_count": 25
  },
  {
   "metadata": {
    "ExecuteTime": {
     "end_time": "2025-02-27T23:04:23.863833Z",
     "start_time": "2025-02-27T23:04:23.859868Z"
    }
   },
   "cell_type": "code",
   "source": [
    "from rye2p.fix_frame_times import frames_by_scope_pulse\n",
    "\n",
    "scope_padding = 0.0\n",
    "\n",
    "# Group the frames by scope trigger\n",
    "scope_fct_padded = scope_fct + scope_padding\n",
    "frame_times_by_pulse = frames_by_scope_pulse(raw_frame_times,\n",
    "                                             scope_ict,\n",
    "                                             scope_fct_padded\n",
    "                                             )\n",
    "\n",
    "if thorimage_settings['fast_z']:\n",
    "    expected_n_timepoints_by_scope_pulse = np.array(\n",
    "            [np.floor_divide(scope_frames.size, thorimage_settings['steps_per_frame'])\n",
    "             for scope_frames in frame_times_by_pulse]\n",
    "            )\n",
    "\n",
    "    expected_n_frames_by_scope_pulse = (expected_n_timepoints_by_scope_pulse\n",
    "                                        * thorimage_settings['steps_per_frame'])\n",
    "\n",
    "    expected_n_timepoints = np.sum(expected_n_timepoints_by_scope_pulse)\n",
    "    expected_n_frames = np.sum(expected_n_frames_by_scope_pulse)\n",
    "\n",
    "    correct_n_frames = (expected_n_frames == thorimage_settings['n_frames'])\n",
    "    correct_n_timepoints = (expected_n_timepoints == thorimage_settings['n_timepoints'])\n",
    "    # %%\n",
    "    print(\n",
    "            f\"\\nCorrect # of frames: {correct_n_frames}\"\n",
    "            f\"\\nCorrect # of timepoints: {correct_n_timepoints}\"\n",
    "\n",
    "            f\"\\n\\nExpected from filtering:\"\n",
    "            f\"\\n\\tn_frames: {expected_n_frames}\"\n",
    "            f\"\\n\\tn_timepoints: {expected_n_timepoints}\"\n",
    "\n",
    "            f\"\\n\\nThorImage:\"\n",
    "            f\"\\n\\tn_frames: {thorimage_settings['n_frames']}\"\n",
    "            f\"\\n\\tn_timepoints: {thorimage_settings['n_timepoints']}\\n\\n\"\n",
    "            )"
   ],
   "id": "f090cddc616a1f34",
   "outputs": [
    {
     "name": "stdout",
     "output_type": "stream",
     "text": [
      "\n",
      "Correct # of frames: False\n",
      "Correct # of timepoints: False\n",
      "\n",
      "Expected from filtering:\n",
      "\tn_frames: 0\n",
      "\tn_timepoints: 0\n",
      "\n",
      "ThorImage:\n",
      "\tn_frames: 101400\n",
      "\tn_timepoints: 5070\n",
      "\n",
      "\n"
     ]
    }
   ],
   "execution_count": 26
  },
  {
   "metadata": {},
   "cell_type": "code",
   "outputs": [],
   "execution_count": null,
   "source": "",
   "id": "8a9b67369beda024"
  }
 ],
 "metadata": {
  "kernelspec": {
   "display_name": "Python 3",
   "language": "python",
   "name": "python3"
  },
  "language_info": {
   "codemirror_mode": {
    "name": "ipython",
    "version": 2
   },
   "file_extension": ".py",
   "mimetype": "text/x-python",
   "name": "python",
   "nbconvert_exporter": "python",
   "pygments_lexer": "ipython2",
   "version": "2.7.6"
  }
 },
 "nbformat": 4,
 "nbformat_minor": 5
}
