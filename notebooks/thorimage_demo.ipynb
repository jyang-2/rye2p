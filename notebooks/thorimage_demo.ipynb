{
 "cells": [
  {
   "cell_type": "code",
   "id": "618592eed3db258c",
   "metadata": {
    "ExecuteTime": {
     "end_time": "2025-10-13T22:11:24.153429Z",
     "start_time": "2025-10-13T22:11:23.951722Z"
    }
   },
   "source": [
    "import numpy as np\n",
    "import pprint as pp\n",
    "import shutil\n",
    "import utils2p.synchronization\n",
    "import yaml\n",
    "from pathlib import Path\n",
    "from rye2p.thorimage.settings import FunctionalImagingSettings\n",
    "\n",
    "# set upstairs or downstairs microscope\n",
    "microscope = 'downstairs-2p'\n",
    "\n",
    "# set project directory paths\n",
    "PRJ_DATA_DIR = Path(\"/local/tensor/Ruoyi/ruoyi_mbc1_project\")\n",
    "RAW_DATA_DIR = PRJ_DATA_DIR / \"raw_data\"\n",
    "NAS_PROC_DIR = PRJ_DATA_DIR / \"processed_data\""
   ],
   "outputs": [],
   "execution_count": 1
  },
  {
   "metadata": {},
   "cell_type": "markdown",
   "source": [
    "# ThorImage pre-processing demo\n",
    "\n",
    "We convert .raw ThorImage movies into more easily readable .tif stacks, and save them to a processed data folder.\n",
    "\n",
    "The Experiment.xml file is also copied to the processed data folder, and important information about the ThorImage\n",
    "recording is saved to `thorimage_settings.yaml`."
   ],
   "id": "db916cb6a9601bf0"
  },
  {
   "metadata": {},
   "cell_type": "markdown",
   "source": [
    "# Set dataset info\n",
    "\n",
    "ThorImage and ThorSync files are assumed to be stored in `RAW_DATA_DIR` in directories with the following structure:\n",
    "```\n",
    "raw_data/\n",
    "+-- {{date_imaged}}\n",
    "    +-- {{fly_num}}\n",
    "        +-- {{thorimage_name}}\n",
    "        +-- {{thorsync_name}}\n",
    "```"
   ],
   "id": "9e4417e366a4a4f7"
  },
  {
   "metadata": {
    "ExecuteTime": {
     "end_time": "2025-10-13T22:11:30.042287Z",
     "start_time": "2025-10-13T22:11:30.040421Z"
    }
   },
   "cell_type": "code",
   "source": [
    "date_imaged = '2025-10-12'\n",
    "fly_num = 'LH1900xG8f;G8f_5d'\n",
    "thorimage_name = 'HANG_L'\n",
    "thorsync_name = 'SyncData002'"
   ],
   "id": "7655987d2623861b",
   "outputs": [],
   "execution_count": 2
  },
  {
   "metadata": {},
   "cell_type": "markdown",
   "source": [
    "## Get the ThorImage and ThorSync folders\n",
    "\n",
    "- `sync_mov_dir`: ThorSync directory\n",
    "- `raw_mov_dir`: ThorImage directory\n",
    "- `proc_mov_dir`: Processed data directory (holds outputs from processing the ThorImage and ThorSync files)\n"
   ],
   "id": "ac43eea8fc1eeaaa"
  },
  {
   "metadata": {
    "ExecuteTime": {
     "end_time": "2025-10-13T22:11:37.657756Z",
     "start_time": "2025-10-13T22:11:37.655464Z"
    }
   },
   "cell_type": "code",
   "source": [
    "# ThorImage folder containing Experiment.xml and .raw movie\n",
    "raw_mov_dir = RAW_DATA_DIR.joinpath(date_imaged,\n",
    "                                      str(fly_num),\n",
    "                                      thorimage_name)\n",
    "\n",
    "# folder to save the processed movie outputs\n",
    "proc_mov_dir = NAS_PROC_DIR.joinpath(date_imaged, str(fly_num), thorimage_name)\n",
    "\n",
    "# ThorSync folder containing 'Episode001.h5' and 'ThorImageSettings.xml'\n",
    "sync_dir = RAW_DATA_DIR.joinpath(date_imaged,\n",
    "                                      str(fly_num),\n",
    "                                      thorsync_name)\n",
    "\n",
    "print(f\"raw_mov_dir: {raw_mov_dir}\")\n",
    "print(f\"proc_mov_dir: {proc_mov_dir}\")\n",
    "print(f\"sync_dir: {sync_dir}\")"
   ],
   "id": "fb5b9e47dacfe4cf",
   "outputs": [
    {
     "name": "stdout",
     "output_type": "stream",
     "text": [
      "raw_mov_dir: /local/tensor/Ruoyi/ruoyi_mbc1_project/raw_data/2025-10-12/LH1900xG8f;G8f_5d/HANG_L\n",
      "proc_mov_dir: /local/tensor/Ruoyi/ruoyi_mbc1_project/processed_data/2025-10-12/LH1900xG8f;G8f_5d/HANG_L\n",
      "sync_dir: /local/tensor/Ruoyi/ruoyi_mbc1_project/raw_data/2025-10-12/LH1900xG8f;G8f_5d/SyncData002\n"
     ]
    }
   ],
   "execution_count": 4
  },
  {
   "metadata": {},
   "cell_type": "markdown",
   "source": [
    "## Get the ThorImage metadata\n",
    "\n",
    "ThorImage metadata is parsed from the `Experiment.xml` file."
   ],
   "id": "59ffc55d325864fe"
  },
  {
   "metadata": {
    "ExecuteTime": {
     "end_time": "2025-10-13T22:11:39.006751Z",
     "start_time": "2025-10-13T22:11:38.928050Z"
    }
   },
   "cell_type": "code",
   "source": [
    "thorimage_xml = RAW_DATA_DIR.joinpath(date_imaged,\n",
    "                                      str(fly_num),\n",
    "                                      thorimage_name,\n",
    "                                      'Experiment.xml')\n",
    "\n",
    "# Copy Experiment.xml to proc_mov_dir\n",
    "proc_mov_dir.mkdir(parents=True, exist_ok=True)\n",
    "shutil.copy(thorimage_xml, proc_mov_dir.joinpath(\"Experiment.xml\"))\n",
    "\n",
    "# Get the relevant thorimage settings\n",
    "thorimage_settings = FunctionalImagingSettings.from_xml(thorimage_xml)\n",
    "thorimage_settings.thorsync_name = thorsync_name\n",
    "\n",
    "# Save thorimage_settings to yaml file in proc_mov_dir\n",
    "thorimage_settings.to_yaml(proc_mov_dir / \"thorimage_settings.yaml\")\n",
    "\n",
    "pp.pprint(thorimage_settings.to_dict(), indent=4, sort_dicts=False)\n"
   ],
   "id": "82939f41aa15f498",
   "outputs": [
    {
     "name": "stdout",
     "output_type": "stream",
     "text": [
      "{   'raw_frame_rate': 3.663,\n",
      "    'frame_rate': 0.30524999999999997,\n",
      "    'n_frames': 6576,\n",
      "    'n_timepoints': 548,\n",
      "    'fast_z': True,\n",
      "    'n_z': 11,\n",
      "    'n_flyback_frames': 1,\n",
      "    'step_size_um': 5.0,\n",
      "    'average_mode': False,\n",
      "    'n_averaging': 1,\n",
      "    'steps_per_frame': 12,\n",
      "    'timelapse_trigger_mode': 0,\n",
      "    'streaming_trigger_mode': 4,\n",
      "    'stimulus_triggering': 1,\n",
      "    'software_version': '3.0.2016.10131',\n",
      "    'experiment_notes': '20251012_122101_stimuli.yaml',\n",
      "    'thorsync_name': 'SyncData002'}\n"
     ]
    }
   ],
   "execution_count": 5
  },
  {
   "metadata": {},
   "cell_type": "markdown",
   "source": [
    "# Convert .raw movie to .tif stacks\n",
    "\n",
    "## Load the .raw movie\n"
   ],
   "id": "be74fd6ce687958a"
  },
  {
   "metadata": {
    "ExecuteTime": {
     "end_time": "2025-10-13T22:11:41.402969Z",
     "start_time": "2025-10-13T22:11:41.069564Z"
    }
   },
   "cell_type": "code",
   "source": [
    "meta = utils2p.Metadata(thorimage_xml)\n",
    "\n",
    "raw_file =raw_mov_dir.joinpath(\"Image_0001_0001.raw\")\n",
    "\n",
    "# Load movie\n",
    "stack1, = utils2p.load_raw(raw_file, meta)\n",
    "stack1.shape\n"
   ],
   "id": "9ecb9c6fd1e31dd8",
   "outputs": [
    {
     "data": {
      "text/plain": [
       "(548, 11, 192, 192)"
      ]
     },
     "execution_count": 6,
     "metadata": {},
     "output_type": "execute_result"
    }
   ],
   "execution_count": 6
  },
  {
   "metadata": {},
   "cell_type": "markdown",
   "source": "## Save as single .tif file in `proc_mov_dir`\n",
   "id": "a2fcf5c553bbb788"
  },
  {
   "metadata": {
    "ExecuteTime": {
     "end_time": "2025-10-13T22:11:49.995110Z",
     "start_time": "2025-10-13T22:11:44.001419Z"
    }
   },
   "cell_type": "code",
   "source": [
    "# convert to relative path\n",
    "tiff_file = proc_mov_dir.joinpath(\"Image_0001_0001.tif\")\n",
    "\n",
    "print(f\"saving: {tiff_file}\")\n",
    "utils2p.save_img(tiff_file, stack1)\n",
    "print(f\"...saved successfully.\")"
   ],
   "id": "2ee9990e6226cc77",
   "outputs": [
    {
     "name": "stdout",
     "output_type": "stream",
     "text": [
      "saving: /local/tensor/Ruoyi/ruoyi_mbc1_project/processed_data/2025-10-12/LH1900xG8f;G8f_5d/HANG_L/Image_0001_0001.tif\n",
      "...saved successfully.\n"
     ]
    }
   ],
   "execution_count": 7
  },
  {
   "metadata": {},
   "cell_type": "markdown",
   "source": [
    "## Save as sequence of .tif stacks\n",
    "The .tif sequence is saved in a subfolder `stk/`. This helps for faster loading in ImageJ and other applications.\n",
    "\n",
    "Set the # of timepoints per .tif file in `frames_per_batch`.\n",
    "\n",
    "```\n",
    "{{proc_mov_dir}}/\n",
    "--+ Experiment.xml\n",
    "--+ Image_001_001.tif\n",
    "--+ stk/\n",
    "    --+ stk_001.tif\n",
    "    --+ stk_002.tif\n",
    "    --+ ...\n",
    "```"
   ],
   "id": "84e0bfe4989b0eea"
  },
  {
   "metadata": {
    "ExecuteTime": {
     "end_time": "2025-02-14T01:12:01.113722Z",
     "start_time": "2025-02-14T01:11:57.806492Z"
    }
   },
   "cell_type": "code",
   "source": [
    "stk_dir = proc_mov_dir.joinpath('stk')\n",
    "stk_dir.mkdir(parents=True, exist_ok=True)\n",
    "\n",
    "frames_per_batch = 500\n",
    "\n",
    "batch_gen = utils2p.load_stack_batches(tiff_file, frames_per_batch)\n",
    "\n",
    "print(stk_dir)\n",
    "\n",
    "for i, batch in enumerate(batch_gen):\n",
    "    save_name = stk_dir.joinpath(f\"stk_{i:03d}.tif\")\n",
    "    utils2p.save_img(save_name, batch)\n",
    "    print(f\"\\t- {save_name.name} saved successfully\")"
   ],
   "id": "1faf06cd06ebf7c6",
   "outputs": [
    {
     "name": "stdout",
     "output_type": "stream",
     "text": [
      "/local/tensor/Haoru/rotation_project/processed_data/2025-02-10/stk\n",
      "\t- stk_000.tif saved successfully\n",
      "\t- stk_001.tif saved successfully\n",
      "\t- stk_002.tif saved successfully\n"
     ]
    }
   ],
   "execution_count": 23
  },
  {
   "metadata": {},
   "cell_type": "markdown",
   "source": [
    "## Get the ThorSync metadata\n",
    "```\n",
    "{{sync_dir}}/\n",
    "--+ Episode001.h5: contains the recorded ThorSync data\n",
    "--+ ThorRealTimeDataSettings.xml: contains ThorSync metadata\n",
    "```"
   ],
   "id": "efdaf7cb61f62f50"
  },
  {
   "metadata": {
    "collapsed": true,
    "ExecuteTime": {
     "end_time": "2025-10-13T19:31:37.610336Z",
     "start_time": "2025-10-13T19:31:37.604251Z"
    }
   },
   "cell_type": "code",
   "source": [
    "# ThorImage file containing the input lines\n",
    "#   - note: Sometimes the file is named 'Episode0001.h5'\n",
    "h5_file = sync_dir.joinpath('Episode001.h5')\n",
    "\n",
    "sync_meta_file = h5_file.with_name('ThorRealTimeDataSettings.xml')\n",
    "sync_meta = utils2p.synchronization.SyncMetadata(h5_file.with_name(\"ThorRealTimeDataSettings.xml\"))\n",
    "\n",
    "\n",
    "print('\\n--------------------------------------------------')\n",
    "print(thorimage_xml.relative_to(RAW_DATA_DIR))\n",
    "print('--------------------------------------------------')\n",
    "\n",
    "pp.pprint(thorimage_settings.to_dict(), sort_dicts=False)\n",
    "\n",
    "# %% Get ThorImage and ThorSync metadata\n",
    "\n",
    "# ThorImage metadata\n",
    "meta = utils2p.Metadata(thorimage_xml)\n",
    "\n",
    "# ThorSync metadata"
   ],
   "id": "initial_id",
   "outputs": [
    {
     "name": "stdout",
     "output_type": "stream",
     "text": [
      "\n",
      "--------------------------------------------------\n",
      "2025-10-12/LH1900xG8f;G8f_5d/HANG_L/Experiment.xml\n",
      "--------------------------------------------------\n",
      "{'raw_frame_rate': 3.663,\n",
      " 'frame_rate': 0.30524999999999997,\n",
      " 'n_frames': 6576,\n",
      " 'n_timepoints': 548,\n",
      " 'fast_z': True,\n",
      " 'n_z': 11,\n",
      " 'n_flyback_frames': 1,\n",
      " 'step_size_um': 5.0,\n",
      " 'average_mode': False,\n",
      " 'n_averaging': 1,\n",
      " 'steps_per_frame': 12,\n",
      " 'timelapse_trigger_mode': 0,\n",
      " 'streaming_trigger_mode': 4,\n",
      " 'stimulus_triggering': 1,\n",
      " 'software_version': '3.0.2016.10131',\n",
      " 'experiment_notes': '20251012_122101_stimuli.yaml',\n",
      " 'thorsync_name': 'SyncData001'}\n"
     ]
    }
   ],
   "execution_count": 5
  }
 ],
 "metadata": {
  "kernelspec": {
   "display_name": "Python 3",
   "language": "python",
   "name": "python3"
  },
  "language_info": {
   "codemirror_mode": {
    "name": "ipython",
    "version": 2
   },
   "file_extension": ".py",
   "mimetype": "text/x-python",
   "name": "python",
   "nbconvert_exporter": "python",
   "pygments_lexer": "ipython2",
   "version": "2.7.6"
  }
 },
 "nbformat": 4,
 "nbformat_minor": 5
}
